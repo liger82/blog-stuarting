{
  "nbformat": 4,
  "nbformat_minor": 0,
  "metadata": {
    "colab": {
      "name": "07_ensemble_learning_and_random_forests.ipynb",
      "version": "0.3.2",
      "provenance": [],
      "collapsed_sections": [],
      "include_colab_link": true
    },
    "kernelspec": {
      "display_name": "Python 3",
      "language": "python",
      "name": "python3"
    }
  },
  "cells": [
    {
      "cell_type": "markdown",
      "metadata": {
        "id": "view-in-github",
        "colab_type": "text"
      },
      "source": [
        "<a href=\"https://colab.research.google.com/github/liger82/blog-stuarting/blob/master/ensemble_and_random_forests/07_ensemble_learning_and_random_forests.ipynb\" target=\"_parent\"><img src=\"https://colab.research.google.com/assets/colab-badge.svg\" alt=\"Open In Colab\"/></a>"
      ]
    },
    {
      "metadata": {
        "id": "4Ahornd0WMxG",
        "colab_type": "text"
      },
      "cell_type": "markdown",
      "source": [
        "# 드라이브 사본에 저장해서 사용하세요~\n",
        "파일 > 드라이브에 사본 저장 > 사본에서 실행 및 수정 가능"
      ]
    },
    {
      "metadata": {
        "id": "FZHwwNICLTKM",
        "colab_type": "code",
        "colab": {
          "base_uri": "https://localhost:8080/",
          "height": 335
        },
        "outputId": "2e67b910-70b8-4808-cedf-01cadcf43f4f"
      },
      "cell_type": "code",
      "source": [
        "# watermark 모듈을 pip를 통해 설치해 줍니다.\n",
        "\n",
        "!pip install watermark"
      ],
      "execution_count": 2,
      "outputs": [
        {
          "output_type": "stream",
          "text": [
            "Collecting watermark\n",
            "  Downloading https://files.pythonhosted.org/packages/4b/dc/fb451c174b4f603231875c9ca7116d1b81cdd635172f0fbab248b1d94cd5/watermark-1.8.1-py3-none-any.whl\n",
            "Requirement already satisfied: ipython in /usr/local/lib/python3.6/dist-packages (from watermark) (5.5.0)\n",
            "Requirement already satisfied: prompt-toolkit<2.0.0,>=1.0.4 in /usr/local/lib/python3.6/dist-packages (from ipython->watermark) (1.0.15)\n",
            "Requirement already satisfied: pexpect; sys_platform != \"win32\" in /usr/local/lib/python3.6/dist-packages (from ipython->watermark) (4.6.0)\n",
            "Requirement already satisfied: setuptools>=18.5 in /usr/local/lib/python3.6/dist-packages (from ipython->watermark) (40.8.0)\n",
            "Requirement already satisfied: pickleshare in /usr/local/lib/python3.6/dist-packages (from ipython->watermark) (0.7.5)\n",
            "Requirement already satisfied: simplegeneric>0.8 in /usr/local/lib/python3.6/dist-packages (from ipython->watermark) (0.8.1)\n",
            "Requirement already satisfied: traitlets>=4.2 in /usr/local/lib/python3.6/dist-packages (from ipython->watermark) (4.3.2)\n",
            "Requirement already satisfied: decorator in /usr/local/lib/python3.6/dist-packages (from ipython->watermark) (4.3.2)\n",
            "Requirement already satisfied: pygments in /usr/local/lib/python3.6/dist-packages (from ipython->watermark) (2.1.3)\n",
            "Requirement already satisfied: wcwidth in /usr/local/lib/python3.6/dist-packages (from prompt-toolkit<2.0.0,>=1.0.4->ipython->watermark) (0.1.7)\n",
            "Requirement already satisfied: six>=1.9.0 in /usr/local/lib/python3.6/dist-packages (from prompt-toolkit<2.0.0,>=1.0.4->ipython->watermark) (1.11.0)\n",
            "Requirement already satisfied: ptyprocess>=0.5 in /usr/local/lib/python3.6/dist-packages (from pexpect; sys_platform != \"win32\"->ipython->watermark) (0.6.0)\n",
            "Requirement already satisfied: ipython-genutils in /usr/local/lib/python3.6/dist-packages (from traitlets>=4.2->ipython->watermark) (0.2.0)\n",
            "Installing collected packages: watermark\n",
            "Successfully installed watermark-1.8.1\n"
          ],
          "name": "stdout"
        }
      ]
    },
    {
      "metadata": {
        "id": "haxgYH7qB-8D",
        "colab_type": "code",
        "colab": {
          "base_uri": "https://localhost:8080/",
          "height": 167
        },
        "outputId": "82f521d1-3141-4921-bac0-5cd8031538bc"
      },
      "cell_type": "code",
      "source": [
        "%load_ext watermark\n",
        "%watermark -v -p numpy,scipy,sklearn,pandas,matplotlib"
      ],
      "execution_count": 3,
      "outputs": [
        {
          "output_type": "stream",
          "text": [
            "CPython 3.6.7\n",
            "IPython 5.5.0\n",
            "\n",
            "numpy 1.14.6\n",
            "scipy 1.1.0\n",
            "sklearn 0.20.2\n",
            "pandas 0.22.0\n",
            "matplotlib 3.0.2\n"
          ],
          "name": "stdout"
        }
      ]
    },
    {
      "metadata": {
        "id": "fhanPHCbB-8O",
        "colab_type": "text"
      },
      "cell_type": "markdown",
      "source": [
        "_이 노트북은 핸즈온 ML 7장에 있는 모든 샘플 코드와 연습문제 해답을 가지고 있습니다._\n",
        "\n",
        "-여기에서 발생하는 경고는 NumPy에 관련된 것([#10449](https://github.com/scikit-learn/scikit-learn/issues/10449))으로 향후 버전에서는 사라질 것입니다._"
      ]
    },
    {
      "metadata": {
        "id": "6jxZYWrVB-8P",
        "colab_type": "text"
      },
      "cell_type": "markdown",
      "source": [
        "# 7장 – 앙상블 학습과 랜덤 포레스트\n",
        "\n",
        "아래 블로그에 이 챕터에 대한 정리가 있음\n",
        "https://hoony-gunputer.tistory.com/144"
      ]
    },
    {
      "metadata": {
        "id": "hHD9-iHBB-8R",
        "colab_type": "text"
      },
      "cell_type": "markdown",
      "source": [
        "### Ensemble learning\n",
        "* 앙상블 학습이란 하나로 이어진 여러개의 (SVM, 결정트리, 로지스틱 회귀, 경사하강법)예측기를 사용하여 분류, 회귀등을 하는 것을 앙상블 학습이라고 부른다.\n",
        "* 여러 번의 시도를 거쳐서 균형 잡힌 결과를 만들어낸다.\n",
        "* 컴퓨터와 데이터가 많을 때 사용하면 성능이 높아진다."
      ]
    },
    {
      "metadata": {
        "id": "Zcr_R1gCB-8T",
        "colab_type": "text"
      },
      "cell_type": "markdown",
      "source": [
        "### Random Forest\n",
        "* https://ko.wikipedia.org/wiki/%EB%9E%9C%EB%8D%A4_%ED%8F%AC%EB%A0%88%EC%8A%A4%ED%8A%B8\n",
        "* 랜덤 포레스트는 여러 개의 결정 트리들을 임의적으로 학습하는 방식의 앙상블 방법이다.\n",
        "* 랜덤 포레스트 방법은 크게 다수의 결정 트리를 구성하는 학습 단계와 입력 벡터가 들어왔을 때, 분류하거나 예측하는 테스트 단계로 구성되어있다. \n",
        "* 랜덤 포레스트는 검출, 분류, 그리고 회귀 등 다양한 애플리케이션으로 활용되고 있다."
      ]
    },
    {
      "metadata": {
        "id": "DM_oyBF9B-8V",
        "colab_type": "text"
      },
      "cell_type": "markdown",
      "source": [
        "#### 특징\n",
        "*  가장 핵심적인 특징은 임의성(randomness)에 의해 서로 조금씩 다른 특성을 갖는 트리들로 구성된다는 점이다. \n",
        "* 이 특징은 각 트리들의 예측(prediction)들이 비상관화(decorrelation) 되게하며, 결과적으로 일반화(generalization) 성능을 향상시킨다. \n",
        "* 임의화(randomization)는 포레스트가 노이즈가 포함된 데이터에 대해서도 강인하게 만들어 준다. \n",
        "  * 임의화는 각 트리들의 훈련 과정에서 진행되며, 가장 널리 쓰이는 두 가지 방법으로는 임의 학습 데이터 추출 방법을 이용한 앙상블 학습법인 배깅(bagging)과 임의 노드 최적화(randomized node optimization)가 있다. \n",
        "  * 이 두 가지 방법은 서로 동시에 사용되어 임의화 특성을 더욱 증진 시킬 수 있다"
      ]
    },
    {
      "metadata": {
        "id": "Bvy08RZ-B-8X",
        "colab_type": "text"
      },
      "cell_type": "markdown",
      "source": [
        "# 설정"
      ]
    },
    {
      "metadata": {
        "id": "IbCojvxbB-8Z",
        "colab_type": "text"
      },
      "cell_type": "markdown",
      "source": [
        "파이썬 2와 3을 모두 지원합니다. 공통 모듈을 임포트하고 맷플롯립 그림이 노트북 안에 포함되도록 설정하고 생성한 그림을 저장하기 위한 함수를 준비합니다:"
      ]
    },
    {
      "metadata": {
        "id": "lIeWSTzxB-8b",
        "colab_type": "code",
        "colab": {}
      },
      "cell_type": "code",
      "source": [
        "# 파이썬 2와 파이썬 3 지원\n",
        "from __future__ import division, print_function, unicode_literals\n",
        "\n",
        "# 공통\n",
        "import numpy as np\n",
        "import os\n",
        "\n",
        "# 일관된 출력을 위해 유사난수 초기화\n",
        "np.random.seed(42)\n",
        "\n",
        "# 맷플롯립 설정\n",
        "%matplotlib inline\n",
        "import matplotlib\n",
        "import matplotlib.pyplot as plt\n",
        "plt.rcParams['axes.labelsize'] = 14\n",
        "plt.rcParams['xtick.labelsize'] = 12\n",
        "plt.rcParams['ytick.labelsize'] = 12\n",
        "\n",
        "# 한글출력\n",
        "plt.rcParams['font.family'] = 'NanumBarunGothic'\n",
        "plt.rcParams['axes.unicode_minus'] = False\n",
        "\n",
        "# 그림을 저장할 폴더\n",
        "PROJECT_ROOT_DIR = \".\"\n",
        "CHAPTER_ID = \"ensembles\"\n",
        "\n",
        "def image_path(fig_id):\n",
        "    return os.path.join(PROJECT_ROOT_DIR, \"images\", CHAPTER_ID, fig_id)\n",
        "\n",
        "# png로 이미지 저장\n",
        "def save_fig(fig_id, tight_layout=True):\n",
        "    if tight_layout:\n",
        "        plt.tight_layout()\n",
        "    plt.savefig(image_path(fig_id) + \".png\", format='png', dpi=300)"
      ],
      "execution_count": 0,
      "outputs": []
    },
    {
      "metadata": {
        "id": "-yxsqXheB-8f",
        "colab_type": "text"
      },
      "cell_type": "markdown",
      "source": [
        "# 투표기반 분류기\n",
        "\n",
        "### 직접투표분류기(hard voting)\n",
        "\n",
        "* 각 분류기의 예측을 모아 가장 많이 선택된 클래스 예측(다수결 투표)\n",
        "    * 개별 분류기 중 가장 뛰어난 것보다 정확도가 높은 경우가 많다.\n",
        "    * 약한 학습기라도 앙상블을 사용하면 강한 학습기가 될 수 있다.\n",
        "* 큰 수의 법칙\n",
        "    * 분류기가 완벽하고 독립적이고 오차에 상관관계가 없어야 앙상블이 좋은 성능을 발휘함."
      ]
    },
    {
      "metadata": {
        "id": "kXSPW8NCB-8S",
        "colab_type": "text"
      },
      "cell_type": "markdown",
      "source": [
        "![ensemble image](https://t1.daumcdn.net/cfile/tistory/99835D385B5A56162B)"
      ]
    },
    {
      "metadata": {
        "id": "sHhdC7CNB-8g",
        "colab_type": "code",
        "colab": {}
      },
      "cell_type": "code",
      "source": [
        "# 동전이 윗면이 나올 확률(임의로 정해본 값)\n",
        "heads_proba = 0.51\n",
        "\n",
        "# np.random.rand(n,m)은 0~1사이의 실수를 랜덤하게 n*m 개 반환한다.\n",
        "# 각 랜덤 실수에 대해 heads_proba보다 작으면 1, 크면 0으로 변환한다.\n",
        "coin_tosses = (np.random.rand(10000, 10) < heads_proba).astype(np.int32)\n",
        "\n",
        "# np.cumsum(arr, axis)는 axis를 기준으로 누적합을 계산하여 반환한다.\n",
        "# axis가 여기서 0이므로 column끼리 누적합임.(2차원이라서 이렇게 설명하면 쉬움)\n",
        "# np.arange(start, end)는 start부터 end-1까지 1차원 배열로 반환한다. start를 생략하면 0부터 시작한다.\n",
        "# 이걸 reshape(-1,1)했으므로 숫자 하나당 배열 하나를 잡도록 했다.\n",
        "# 즉, (-1, 1) 혹은 (None, 1) shape이다.\n",
        "# np.cumsum() / np.arange().reshape(-1,1)의 shape를 보면 (10000, 10) / (10000, 1) 이런 형태다.\n",
        "cumulative_heads_ratio = np.cumsum(coin_tosses, axis=0) / np.arange(1, 10001).reshape(-1, 1)"
      ],
      "execution_count": 0,
      "outputs": []
    },
    {
      "metadata": {
        "id": "vvzGQhYPB-8l",
        "colab_type": "code",
        "colab": {
          "base_uri": "https://localhost:8080/",
          "height": 259
        },
        "outputId": "4e59fd06-7b5c-48ae-b62c-8f81f0b559bb"
      },
      "cell_type": "code",
      "source": [
        "plt.figure(figsize=(8,3.5))\n",
        "# 10개의 선이 생김. \n",
        "plt.plot(cumulative_heads_ratio)\n",
        "plt.plot([0, 10000], [0.51, 0.51], \"k--\", linewidth=2, label=\"51%\")\n",
        "plt.plot([0, 10000], [0.5, 0.5], \"k-\", label=\"50%\")\n",
        "plt.xlabel(\"동전을 던진 횟수\")\n",
        "plt.ylabel(\"앞면이 나온 비율\")\n",
        "# 범례 위치 설정\n",
        "plt.legend(loc=\"lower right\")\n",
        "# 축 설정 [x 시작, x 끝, y 시작, y 끝]\n",
        "plt.axis([0, 10000, 0.42, 0.58])\n",
        "# save_fig(\"law_of_large_numbers_plot\")\n",
        "plt.show()"
      ],
      "execution_count": 7,
      "outputs": [
        {
          "output_type": "display_data",
          "data": {
            "image/png": "[encoded data removed]",
            "text/plain": [
              "<Figure size 576x252 with 1 Axes>"
            ]
          },
          "metadata": {
            "tags": []
          }
        }
      ]
    },
    {
      "metadata": {
        "id": "FWIo33erB-8r",
        "colab_type": "code",
        "colab": {}
      },
      "cell_type": "code",
      "source": [
        "from sklearn.model_selection import train_test_split\n",
        "from sklearn.datasets import make_moons\n",
        "\n",
        "# moon dataset 생성       \n",
        "# n_samples : 생성할 points 개수 (기본 : 100)\n",
        "# shuffle : 셔플 여부 (기본 : True)\n",
        "# noise : 퍼짐 정도 (기본 None) ; 가우시안 표준편차를 노이즈로 삽입\n",
        "# random_state : 랜덤 상태 (기본 : None)\n",
        "X, y = make_moons(n_samples=500, shuffle=True , noise=0.30, random_state=42)\n",
        "# training, test set으로 분리\n",
        "X_train, X_test, y_train, y_test = train_test_split(X, y, random_state=42)"
      ],
      "execution_count": 0,
      "outputs": []
    },
    {
      "metadata": {
        "id": "HUZeSQJVB-81",
        "colab_type": "text"
      },
      "cell_type": "markdown",
      "source": [
        "* 사이킷런 0.22 버전에서 `LogisticRegression`의 solver 매개변수의 기본값이 `'liblinear'`에서 `'lbfgs'`로 변경될 예정입니다. 책의 결과와 맞추기 위해 명시적으로 `'liblinear'`로 설정합니다. \n",
        "* 0.22 버전에서 `RandomForestClassifier`의 `n_estimators` 매개변수 기본값이 100으로 바뀝니다. 경고를 내지 않도록 하기 위해 현재 기본값인 10으로 설정합니다. \n",
        "* 0.22 버전에서 `SVC`의 `gamma` 매개변수의 기본값이 스케일 조정되지 않은 특성을 위해 `'scale'`로 변경됩니다. 기존 방식을 사용하고 경고를 없애기 위해 `'auto'`로 설정합니다."
      ]
    },
    {
      "metadata": {
        "scrolled": true,
        "id": "GNSCFAaNB-83",
        "colab_type": "code",
        "colab": {
          "base_uri": "https://localhost:8080/",
          "height": 148
        },
        "outputId": "4dcb9fc6-776b-4a9a-a928-61127f00fb28"
      },
      "cell_type": "code",
      "source": [
        "from sklearn.ensemble import RandomForestClassifier\n",
        "from sklearn.ensemble import VotingClassifier\n",
        "from sklearn.linear_model import LogisticRegression\n",
        "from sklearn.svm import SVC\n",
        "\n",
        "# logistic regression classifier\n",
        "log_clf = LogisticRegression(solver='liblinear', random_state=42)\n",
        "# random forest classifier\n",
        "rnd_clf = RandomForestClassifier(n_estimators=10, random_state=42)\n",
        "# support vector machine classifier\n",
        "svm_clf = SVC(gamma='auto', random_state=42)\n",
        "\n",
        "# 투표 분류기 \n",
        "# 서로 다른 모델로 앙상블 학습\n",
        "voting_clf = VotingClassifier(\n",
        "    estimators=[('lr', log_clf), ('rf', rnd_clf), ('svc', svm_clf)],\n",
        "    voting='hard')\n",
        "voting_clf.fit(X_train, y_train)"
      ],
      "execution_count": 10,
      "outputs": [
        {
          "output_type": "execute_result",
          "data": {
            "text/plain": [
              "VotingClassifier(estimators=[('lr', LogisticRegression(C=1.0, class_weight=None, dual=False, fit_intercept=True,\n",
              "          intercept_scaling=1, max_iter=100, multi_class='warn',\n",
              "          n_jobs=None, penalty='l2', random_state=42, solver='liblinear',\n",
              "          tol=0.0001, verbose=0, warm_start=False)), ('rf', Rando...f',\n",
              "  max_iter=-1, probability=False, random_state=42, shrinking=True,\n",
              "  tol=0.001, verbose=False))],\n",
              "         flatten_transform=None, n_jobs=None, voting='hard', weights=None)"
            ]
          },
          "metadata": {
            "tags": []
          },
          "execution_count": 10
        }
      ]
    },
    {
      "metadata": {
        "id": "oGqdI466B-89",
        "colab_type": "code",
        "colab": {
          "base_uri": "https://localhost:8080/",
          "height": 92
        },
        "outputId": "ff718cbc-0483-4c64-990e-943c260ed21c"
      },
      "cell_type": "code",
      "source": [
        "from sklearn.metrics import accuracy_score\n",
        "\n",
        "for clf in (log_clf, rnd_clf, svm_clf, voting_clf):\n",
        "    clf.fit(X_train, y_train)\n",
        "    y_pred = clf.predict(X_test)\n",
        "    print(clf.__class__.__name__, accuracy_score(y_test, y_pred))"
      ],
      "execution_count": 11,
      "outputs": [
        {
          "output_type": "stream",
          "text": [
            "LogisticRegression 0.864\n",
            "RandomForestClassifier 0.872\n",
            "SVC 0.888\n",
            "VotingClassifier 0.896\n"
          ],
          "name": "stdout"
        }
      ]
    },
    {
      "metadata": {
        "id": "tjXKIhbrB-9D",
        "colab_type": "code",
        "colab": {
          "base_uri": "https://localhost:8080/",
          "height": 148
        },
        "outputId": "cc2ea490-9a8b-4fea-bd29-7375827745ee"
      },
      "cell_type": "code",
      "source": [
        "log_clf = LogisticRegression(solver='liblinear', random_state=42)\n",
        "rnd_clf = RandomForestClassifier(n_estimators=10, random_state=42)\n",
        "svm_clf = SVC(gamma='auto', probability=True, random_state=42)\n",
        "\n",
        "voting_clf = VotingClassifier(\n",
        "    estimators=[('lr', log_clf), ('rf', rnd_clf), ('svc', svm_clf)],\n",
        "    voting='soft')\n",
        "voting_clf.fit(X_train, y_train)"
      ],
      "execution_count": 12,
      "outputs": [
        {
          "output_type": "execute_result",
          "data": {
            "text/plain": [
              "VotingClassifier(estimators=[('lr', LogisticRegression(C=1.0, class_weight=None, dual=False, fit_intercept=True,\n",
              "          intercept_scaling=1, max_iter=100, multi_class='warn',\n",
              "          n_jobs=None, penalty='l2', random_state=42, solver='liblinear',\n",
              "          tol=0.0001, verbose=0, warm_start=False)), ('rf', Rando...bf',\n",
              "  max_iter=-1, probability=True, random_state=42, shrinking=True,\n",
              "  tol=0.001, verbose=False))],\n",
              "         flatten_transform=None, n_jobs=None, voting='soft', weights=None)"
            ]
          },
          "metadata": {
            "tags": []
          },
          "execution_count": 12
        }
      ]
    },
    {
      "metadata": {
        "id": "06JwkanTB-9M",
        "colab_type": "code",
        "colab": {
          "base_uri": "https://localhost:8080/",
          "height": 92
        },
        "outputId": "8ce92caa-3218-4307-e2dd-1fe5f0862603"
      },
      "cell_type": "code",
      "source": [
        "from sklearn.metrics import accuracy_score\n",
        "\n",
        "# training set으로 정확도 확인\n",
        "for clf in (log_clf, rnd_clf, svm_clf, voting_clf):\n",
        "    clf.fit(X_train, y_train)\n",
        "    y_pred = clf.predict(X_test)\n",
        "    print(clf.__class__.__name__, accuracy_score(y_test, y_pred))"
      ],
      "execution_count": 13,
      "outputs": [
        {
          "output_type": "stream",
          "text": [
            "LogisticRegression 0.864\n",
            "RandomForestClassifier 0.872\n",
            "SVC 0.888\n",
            "VotingClassifier 0.912\n"
          ],
          "name": "stdout"
        }
      ]
    },
    {
      "metadata": {
        "id": "hLm8ketrS4Wg",
        "colab_type": "text"
      },
      "cell_type": "markdown",
      "source": [
        "![bagging_boosting](https://res.cloudinary.com/dyd911kmh/image/upload/f_auto,q_auto:best/v1542651255/image_2_pu8tu6.png)"
      ]
    },
    {
      "metadata": {
        "id": "DLHS5hC3B-9R",
        "colab_type": "text"
      },
      "cell_type": "markdown",
      "source": [
        "# 배깅 & 페이스팅\n",
        "* 배깅(bagging : bootstrap aggregating의 준말) : training set에서 중복을 허용하여 샘플링하는 방식\n",
        "* 페이스팅(pasting) : 중복을 허용하지 않고 샘플링하는 방식\n",
        "* 배깅과 페이스팅은 같은 훈련샘플을 여러 개의 예측기에 사용할 수 있다. 하지만 배깅만 같은 훈련샘플을 여러 번 샘플링 할 수 있다.\n",
        "* 모든 예측기가 훈련을 마치면 앙상블은 모든 예측기의 예측을 모아서 새로운 샘플에 대한 예측을 만듦. 수집함수는 전형적 분류일 때는 통계적 최빈값이고 회귀에 대해서는 평균을 계산한다.\n",
        "* 일반적으로 원본 데이터 셋을 하나의 예측기에 훈련시킬 때와 비교해서 앙상블의 결과는 편향이 비슷하지만 분산이 줄어드는 효과를 지닌다.\n",
        "* 병렬수행이 가능한 확장성 때문에 배깅과 페이스팅은 유용하다."
      ]
    },
    {
      "metadata": {
        "id": "ciQDZQr2B-9T",
        "colab_type": "code",
        "colab": {}
      },
      "cell_type": "code",
      "source": [
        "from sklearn.ensemble import BaggingClassifier\n",
        "from sklearn.tree import DecisionTreeClassifier\n",
        "\n",
        "bag_clf = BaggingClassifier(\n",
        "    DecisionTreeClassifier(random_state=42), n_estimators=500,\n",
        "    max_samples=100, bootstrap=True, n_jobs=-1, random_state=42)\n",
        "# bootstrap : True면 배깅, False면 페이스팅\n",
        "# n_jobs : cpu 코어수 / -1은 사용가능한 모든 코어 사용한다는 의미\n",
        "bag_clf.fit(X_train, y_train)\n",
        "y_pred = bag_clf.predict(X_test)"
      ],
      "execution_count": 0,
      "outputs": []
    },
    {
      "metadata": {
        "id": "Xcmn2umCB-9X",
        "colab_type": "code",
        "colab": {
          "base_uri": "https://localhost:8080/",
          "height": 36
        },
        "outputId": "3d14f764-fb27-4151-a992-5c6f2a1ec594"
      },
      "cell_type": "code",
      "source": [
        "from sklearn.metrics import accuracy_score\n",
        "print(accuracy_score(y_test, y_pred))"
      ],
      "execution_count": 15,
      "outputs": [
        {
          "output_type": "stream",
          "text": [
            "0.904\n"
          ],
          "name": "stdout"
        }
      ]
    },
    {
      "metadata": {
        "id": "HDgiYIx2B-9i",
        "colab_type": "code",
        "colab": {
          "base_uri": "https://localhost:8080/",
          "height": 36
        },
        "outputId": "39423b42-0dda-41e1-8f48-a0587512d4cc"
      },
      "cell_type": "code",
      "source": [
        "# 결정트리 하나로 해보자( 비교군)\n",
        "tree_clf = DecisionTreeClassifier(random_state=42)\n",
        "tree_clf.fit(X_train, y_train)\n",
        "y_pred_tree = tree_clf.predict(X_test)\n",
        "print(accuracy_score(y_test, y_pred_tree))"
      ],
      "execution_count": 16,
      "outputs": [
        {
          "output_type": "stream",
          "text": [
            "0.856\n"
          ],
          "name": "stdout"
        }
      ]
    },
    {
      "metadata": {
        "id": "CxvuJdlXB-9q",
        "colab_type": "code",
        "colab": {}
      },
      "cell_type": "code",
      "source": [
        "from matplotlib.colors import ListedColormap\n",
        "\n",
        "def plot_decision_boundary(clf, X, y, axes=[-1.5, 2.5, -1, 1.5], alpha=0.5, contour=True):\n",
        "    x1s = np.linspace(axes[0], axes[1], 100)\n",
        "    x2s = np.linspace(axes[2], axes[3], 100)\n",
        "    x1, x2 = np.meshgrid(x1s, x2s)\n",
        "    X_new = np.c_[x1.ravel(), x2.ravel()]\n",
        "    y_pred = clf.predict(X_new).reshape(x1.shape)\n",
        "    custom_cmap = ListedColormap(['#fafab0','#9898ff','#a0faa0'])\n",
        "    plt.contourf(x1, x2, y_pred, alpha=0.3, cmap=custom_cmap)\n",
        "    if contour:\n",
        "        custom_cmap2 = ListedColormap(['#7d7d58','#4c4c7f','#507d50'])\n",
        "        plt.contour(x1, x2, y_pred, cmap=custom_cmap2, alpha=0.8)\n",
        "    plt.plot(X[:, 0][y==0], X[:, 1][y==0], \"yo\", alpha=alpha)\n",
        "    plt.plot(X[:, 0][y==1], X[:, 1][y==1], \"bs\", alpha=alpha)\n",
        "    plt.axis(axes)\n",
        "    plt.xlabel(r\"$x_1$\", fontsize=18)\n",
        "    plt.ylabel(r\"$x_2$\", fontsize=18, rotation=0)"
      ],
      "execution_count": 0,
      "outputs": []
    },
    {
      "metadata": {
        "id": "ZQQYR0Q0B-9x",
        "colab_type": "code",
        "colab": {
          "base_uri": "https://localhost:8080/",
          "height": 307
        },
        "outputId": "e83545ea-3828-4c56-fe8c-5c7b8d602a30"
      },
      "cell_type": "code",
      "source": [
        "# 단일결정트리의 결정경계\n",
        "# 500개 트리를 사용한 배깅앙상블의 결정경계 비교 앙상블이 일반화가 더 잘된다. \n",
        "# 비슷한 편향에서 더 작은 분산.(=훈련셋의 오차는 비슷하지만 결정경계가 덜 불규칙함.)\n",
        "# 부트 스트래핑은 서브셋의 다양성이 증가하므로 배깅이 페이스팅보다 편향이 조금 더 높다. 하지만 상관관계를 줄이는 효과가 있어 분산을 감소시킴. \n",
        "# 둘다 평가하는 것이 좋긴함.\n",
        "\n",
        "plt.figure(figsize=(11,4))\n",
        "plt.subplot(121)\n",
        "plot_decision_boundary(tree_clf, X, y)\n",
        "plt.title(\"결정 트리\", fontsize=14)\n",
        "plt.subplot(122)\n",
        "plot_decision_boundary(bag_clf, X, y)\n",
        "plt.title(\"배깅을 사용한 결정 트리\", fontsize=14)\n",
        "# 이미지 저장은 로컬에서 다운받아서 주피터 등에서 실행\n",
        "# save_fig(\"decision_tree_without_and_with_bagging_plot\")\n",
        "plt.show()"
      ],
      "execution_count": 19,
      "outputs": [
        {
          "output_type": "display_data",
          "data": {
            "image/png": "[encoded data removed]",
            "text/plain": [
              "<Figure size 792x288 with 2 Axes>"
            ]
          },
          "metadata": {
            "tags": []
          }
        }
      ]
    },
    {
      "metadata": {
        "id": "IpnAnZrsB-92",
        "colab_type": "text"
      },
      "cell_type": "markdown",
      "source": [
        "## oob(out of bag)평가 \n",
        "\n",
        "- 배깅의 경우 어떤 샘플은 여러 번 샘플링되고 어떤 것은 전혀 선택이 되지 않을 수 있다. \n",
        "- 훈련 샘플 중 선택되지 않은 나머지를 oob샘플이라고 함.\n",
        "- 훈련되는 동안 전혀 사용되지 않으므로 검증셋이나 교차 검증을 사용하지 않고 oob샘플을 사용해서 앙상블을 평가할 수 있다."
      ]
    },
    {
      "metadata": {
        "id": "FsnyI--MB-93",
        "colab_type": "code",
        "colab": {
          "base_uri": "https://localhost:8080/",
          "height": 36
        },
        "outputId": "8917cf5c-1f4c-48d1-9066-45f6900b0d3d"
      },
      "cell_type": "code",
      "source": [
        "# oob_score를 True로 지정하면 학습 후에 알아서 oob평가를 수행한다.\n",
        "bag_clf = BaggingClassifier(\n",
        "    DecisionTreeClassifier(random_state=42), n_estimators=500,\n",
        "    bootstrap=True, n_jobs=-1, oob_score=True, random_state=40)\n",
        "bag_clf.fit(X_train, y_train)\n",
        "bag_clf.oob_score_"
      ],
      "execution_count": 20,
      "outputs": [
        {
          "output_type": "execute_result",
          "data": {
            "text/plain": [
              "0.9013333333333333"
            ]
          },
          "metadata": {
            "tags": []
          },
          "execution_count": 20
        }
      ]
    },
    {
      "metadata": {
        "id": "AJW5GEyIB-98",
        "colab_type": "code",
        "colab": {
          "base_uri": "https://localhost:8080/",
          "height": 7017
        },
        "outputId": "4ae1a491-6fc6-41cf-ccc5-b0e62b738962"
      },
      "cell_type": "code",
      "source": [
        "# 결정함수는 oob_decision_function에서 확인 가능하다.\n",
        "bag_clf.oob_decision_function_"
      ],
      "execution_count": 21,
      "outputs": [
        {
          "output_type": "execute_result",
          "data": {
            "text/plain": [
              "array([[0.31746032, 0.68253968],\n",
              "       [0.34117647, 0.65882353],\n",
              "       [1.        , 0.        ],\n",
              "       [0.        , 1.        ],\n",
              "       [0.        , 1.        ],\n",
              "       [0.08379888, 0.91620112],\n",
              "       [0.31693989, 0.68306011],\n",
              "       [0.02923977, 0.97076023],\n",
              "       [0.97687861, 0.02312139],\n",
              "       [0.97765363, 0.02234637],\n",
              "       [0.74404762, 0.25595238],\n",
              "       [0.        , 1.        ],\n",
              "       [0.71195652, 0.28804348],\n",
              "       [0.83957219, 0.16042781],\n",
              "       [0.97777778, 0.02222222],\n",
              "       [0.0625    , 0.9375    ],\n",
              "       [0.        , 1.        ],\n",
              "       [0.97297297, 0.02702703],\n",
              "       [0.95238095, 0.04761905],\n",
              "       [1.        , 0.        ],\n",
              "       [0.01704545, 0.98295455],\n",
              "       [0.38947368, 0.61052632],\n",
              "       [0.88700565, 0.11299435],\n",
              "       [1.        , 0.        ],\n",
              "       [0.96685083, 0.03314917],\n",
              "       [0.        , 1.        ],\n",
              "       [0.99428571, 0.00571429],\n",
              "       [1.        , 0.        ],\n",
              "       [0.        , 1.        ],\n",
              "       [0.64804469, 0.35195531],\n",
              "       [0.        , 1.        ],\n",
              "       [1.        , 0.        ],\n",
              "       [0.        , 1.        ],\n",
              "       [0.        , 1.        ],\n",
              "       [0.13402062, 0.86597938],\n",
              "       [1.        , 0.        ],\n",
              "       [0.        , 1.        ],\n",
              "       [0.36065574, 0.63934426],\n",
              "       [0.        , 1.        ],\n",
              "       [1.        , 0.        ],\n",
              "       [0.27093596, 0.72906404],\n",
              "       [0.34146341, 0.65853659],\n",
              "       [1.        , 0.        ],\n",
              "       [1.        , 0.        ],\n",
              "       [0.        , 1.        ],\n",
              "       [1.        , 0.        ],\n",
              "       [1.        , 0.        ],\n",
              "       [0.        , 1.        ],\n",
              "       [1.        , 0.        ],\n",
              "       [0.00531915, 0.99468085],\n",
              "       [0.98265896, 0.01734104],\n",
              "       [0.91428571, 0.08571429],\n",
              "       [0.97282609, 0.02717391],\n",
              "       [0.97029703, 0.02970297],\n",
              "       [0.        , 1.        ],\n",
              "       [0.06134969, 0.93865031],\n",
              "       [0.98019802, 0.01980198],\n",
              "       [0.        , 1.        ],\n",
              "       [0.        , 1.        ],\n",
              "       [0.        , 1.        ],\n",
              "       [0.97790055, 0.02209945],\n",
              "       [0.79473684, 0.20526316],\n",
              "       [0.41919192, 0.58080808],\n",
              "       [0.99473684, 0.00526316],\n",
              "       [0.        , 1.        ],\n",
              "       [0.67613636, 0.32386364],\n",
              "       [1.        , 0.        ],\n",
              "       [1.        , 0.        ],\n",
              "       [0.87356322, 0.12643678],\n",
              "       [1.        , 0.        ],\n",
              "       [0.56140351, 0.43859649],\n",
              "       [0.16304348, 0.83695652],\n",
              "       [0.67539267, 0.32460733],\n",
              "       [0.90673575, 0.09326425],\n",
              "       [0.        , 1.        ],\n",
              "       [0.16201117, 0.83798883],\n",
              "       [0.89005236, 0.10994764],\n",
              "       [1.        , 0.        ],\n",
              "       [0.        , 1.        ],\n",
              "       [0.995     , 0.005     ],\n",
              "       [0.        , 1.        ],\n",
              "       [0.07272727, 0.92727273],\n",
              "       [0.05418719, 0.94581281],\n",
              "       [0.29533679, 0.70466321],\n",
              "       [1.        , 0.        ],\n",
              "       [0.        , 1.        ],\n",
              "       [0.81871345, 0.18128655],\n",
              "       [0.01092896, 0.98907104],\n",
              "       [0.        , 1.        ],\n",
              "       [0.        , 1.        ],\n",
              "       [0.22513089, 0.77486911],\n",
              "       [1.        , 0.        ],\n",
              "       [0.        , 1.        ],\n",
              "       [0.        , 1.        ],\n",
              "       [0.        , 1.        ],\n",
              "       [0.9368932 , 0.0631068 ],\n",
              "       [0.76536313, 0.23463687],\n",
              "       [0.        , 1.        ],\n",
              "       [1.        , 0.        ],\n",
              "       [0.17127072, 0.82872928],\n",
              "       [0.65306122, 0.34693878],\n",
              "       [0.        , 1.        ],\n",
              "       [0.03076923, 0.96923077],\n",
              "       [0.49444444, 0.50555556],\n",
              "       [1.        , 0.        ],\n",
              "       [0.02673797, 0.97326203],\n",
              "       [0.98870056, 0.01129944],\n",
              "       [0.23121387, 0.76878613],\n",
              "       [0.5       , 0.5       ],\n",
              "       [0.9947644 , 0.0052356 ],\n",
              "       [0.00555556, 0.99444444],\n",
              "       [0.98963731, 0.01036269],\n",
              "       [0.25641026, 0.74358974],\n",
              "       [0.92972973, 0.07027027],\n",
              "       [1.        , 0.        ],\n",
              "       [1.        , 0.        ],\n",
              "       [0.        , 1.        ],\n",
              "       [0.        , 1.        ],\n",
              "       [0.80681818, 0.19318182],\n",
              "       [1.        , 0.        ],\n",
              "       [0.0106383 , 0.9893617 ],\n",
              "       [1.        , 0.        ],\n",
              "       [1.        , 0.        ],\n",
              "       [1.        , 0.        ],\n",
              "       [0.98181818, 0.01818182],\n",
              "       [1.        , 0.        ],\n",
              "       [0.01036269, 0.98963731],\n",
              "       [0.97752809, 0.02247191],\n",
              "       [0.99453552, 0.00546448],\n",
              "       [0.01960784, 0.98039216],\n",
              "       [0.18367347, 0.81632653],\n",
              "       [0.98387097, 0.01612903],\n",
              "       [0.29533679, 0.70466321],\n",
              "       [0.98295455, 0.01704545],\n",
              "       [0.        , 1.        ],\n",
              "       [0.00561798, 0.99438202],\n",
              "       [0.75138122, 0.24861878],\n",
              "       [0.38624339, 0.61375661],\n",
              "       [0.42708333, 0.57291667],\n",
              "       [0.86315789, 0.13684211],\n",
              "       [0.92964824, 0.07035176],\n",
              "       [0.05699482, 0.94300518],\n",
              "       [0.82802548, 0.17197452],\n",
              "       [0.01546392, 0.98453608],\n",
              "       [0.        , 1.        ],\n",
              "       [0.02298851, 0.97701149],\n",
              "       [0.96721311, 0.03278689],\n",
              "       [1.        , 0.        ],\n",
              "       [1.        , 0.        ],\n",
              "       [0.01041667, 0.98958333],\n",
              "       [0.        , 1.        ],\n",
              "       [0.0326087 , 0.9673913 ],\n",
              "       [0.01020408, 0.98979592],\n",
              "       [1.        , 0.        ],\n",
              "       [1.        , 0.        ],\n",
              "       [0.93785311, 0.06214689],\n",
              "       [1.        , 0.        ],\n",
              "       [1.        , 0.        ],\n",
              "       [0.99462366, 0.00537634],\n",
              "       [0.        , 1.        ],\n",
              "       [0.38860104, 0.61139896],\n",
              "       [0.32065217, 0.67934783],\n",
              "       [0.        , 1.        ],\n",
              "       [0.        , 1.        ],\n",
              "       [0.31182796, 0.68817204],\n",
              "       [1.        , 0.        ],\n",
              "       [1.        , 0.        ],\n",
              "       [0.        , 1.        ],\n",
              "       [1.        , 0.        ],\n",
              "       [0.00588235, 0.99411765],\n",
              "       [0.        , 1.        ],\n",
              "       [0.98387097, 0.01612903],\n",
              "       [0.        , 1.        ],\n",
              "       [0.        , 1.        ],\n",
              "       [1.        , 0.        ],\n",
              "       [0.        , 1.        ],\n",
              "       [0.62264151, 0.37735849],\n",
              "       [0.92344498, 0.07655502],\n",
              "       [0.        , 1.        ],\n",
              "       [0.99526066, 0.00473934],\n",
              "       [1.        , 0.        ],\n",
              "       [0.98888889, 0.01111111],\n",
              "       [0.        , 1.        ],\n",
              "       [0.        , 1.        ],\n",
              "       [1.        , 0.        ],\n",
              "       [0.06451613, 0.93548387],\n",
              "       [1.        , 0.        ],\n",
              "       [0.05154639, 0.94845361],\n",
              "       [0.        , 1.        ],\n",
              "       [1.        , 0.        ],\n",
              "       [0.        , 1.        ],\n",
              "       [0.03278689, 0.96721311],\n",
              "       [1.        , 0.        ],\n",
              "       [0.95808383, 0.04191617],\n",
              "       [0.79532164, 0.20467836],\n",
              "       [0.55665025, 0.44334975],\n",
              "       [0.        , 1.        ],\n",
              "       [0.18604651, 0.81395349],\n",
              "       [1.        , 0.        ],\n",
              "       [0.93121693, 0.06878307],\n",
              "       [0.97740113, 0.02259887],\n",
              "       [1.        , 0.        ],\n",
              "       [0.00531915, 0.99468085],\n",
              "       [0.        , 1.        ],\n",
              "       [0.44623656, 0.55376344],\n",
              "       [0.86363636, 0.13636364],\n",
              "       [0.        , 1.        ],\n",
              "       [0.        , 1.        ],\n",
              "       [1.        , 0.        ],\n",
              "       [0.00558659, 0.99441341],\n",
              "       [0.        , 1.        ],\n",
              "       [0.96923077, 0.03076923],\n",
              "       [0.        , 1.        ],\n",
              "       [0.21649485, 0.78350515],\n",
              "       [0.        , 1.        ],\n",
              "       [1.        , 0.        ],\n",
              "       [0.        , 1.        ],\n",
              "       [0.        , 1.        ],\n",
              "       [0.98477157, 0.01522843],\n",
              "       [0.8       , 0.2       ],\n",
              "       [0.99441341, 0.00558659],\n",
              "       [0.        , 1.        ],\n",
              "       [0.08379888, 0.91620112],\n",
              "       [0.98984772, 0.01015228],\n",
              "       [0.01142857, 0.98857143],\n",
              "       [0.        , 1.        ],\n",
              "       [0.02747253, 0.97252747],\n",
              "       [1.        , 0.        ],\n",
              "       [0.79144385, 0.20855615],\n",
              "       [0.        , 1.        ],\n",
              "       [0.90804598, 0.09195402],\n",
              "       [0.98387097, 0.01612903],\n",
              "       [0.20634921, 0.79365079],\n",
              "       [0.19767442, 0.80232558],\n",
              "       [1.        , 0.        ],\n",
              "       [0.        , 1.        ],\n",
              "       [0.        , 1.        ],\n",
              "       [0.        , 1.        ],\n",
              "       [0.20338983, 0.79661017],\n",
              "       [0.98181818, 0.01818182],\n",
              "       [0.        , 1.        ],\n",
              "       [1.        , 0.        ],\n",
              "       [0.98969072, 0.01030928],\n",
              "       [0.        , 1.        ],\n",
              "       [0.48663102, 0.51336898],\n",
              "       [1.        , 0.        ],\n",
              "       [0.        , 1.        ],\n",
              "       [1.        , 0.        ],\n",
              "       [0.        , 1.        ],\n",
              "       [0.        , 1.        ],\n",
              "       [0.07821229, 0.92178771],\n",
              "       [0.11176471, 0.88823529],\n",
              "       [0.99415205, 0.00584795],\n",
              "       [0.03015075, 0.96984925],\n",
              "       [1.        , 0.        ],\n",
              "       [0.40837696, 0.59162304],\n",
              "       [0.04891304, 0.95108696],\n",
              "       [0.51595745, 0.48404255],\n",
              "       [0.51898734, 0.48101266],\n",
              "       [0.        , 1.        ],\n",
              "       [1.        , 0.        ],\n",
              "       [0.        , 1.        ],\n",
              "       [0.        , 1.        ],\n",
              "       [0.59903382, 0.40096618],\n",
              "       [0.        , 1.        ],\n",
              "       [1.        , 0.        ],\n",
              "       [0.24157303, 0.75842697],\n",
              "       [0.81052632, 0.18947368],\n",
              "       [0.08717949, 0.91282051],\n",
              "       [0.99453552, 0.00546448],\n",
              "       [0.82142857, 0.17857143],\n",
              "       [0.        , 1.        ],\n",
              "       [0.        , 1.        ],\n",
              "       [0.125     , 0.875     ],\n",
              "       [0.04712042, 0.95287958],\n",
              "       [0.        , 1.        ],\n",
              "       [1.        , 0.        ],\n",
              "       [0.89150943, 0.10849057],\n",
              "       [0.1978022 , 0.8021978 ],\n",
              "       [0.95238095, 0.04761905],\n",
              "       [0.00515464, 0.99484536],\n",
              "       [0.609375  , 0.390625  ],\n",
              "       [0.07692308, 0.92307692],\n",
              "       [0.99484536, 0.00515464],\n",
              "       [0.84210526, 0.15789474],\n",
              "       [0.        , 1.        ],\n",
              "       [0.99484536, 0.00515464],\n",
              "       [0.95876289, 0.04123711],\n",
              "       [0.        , 1.        ],\n",
              "       [0.        , 1.        ],\n",
              "       [1.        , 0.        ],\n",
              "       [0.        , 1.        ],\n",
              "       [1.        , 0.        ],\n",
              "       [0.26903553, 0.73096447],\n",
              "       [0.98461538, 0.01538462],\n",
              "       [1.        , 0.        ],\n",
              "       [0.        , 1.        ],\n",
              "       [0.00574713, 0.99425287],\n",
              "       [0.85142857, 0.14857143],\n",
              "       [0.        , 1.        ],\n",
              "       [1.        , 0.        ],\n",
              "       [0.76506024, 0.23493976],\n",
              "       [0.8969697 , 0.1030303 ],\n",
              "       [1.        , 0.        ],\n",
              "       [0.73333333, 0.26666667],\n",
              "       [0.47727273, 0.52272727],\n",
              "       [0.        , 1.        ],\n",
              "       [0.92473118, 0.07526882],\n",
              "       [0.        , 1.        ],\n",
              "       [1.        , 0.        ],\n",
              "       [0.87709497, 0.12290503],\n",
              "       [1.        , 0.        ],\n",
              "       [1.        , 0.        ],\n",
              "       [0.74752475, 0.25247525],\n",
              "       [0.09146341, 0.90853659],\n",
              "       [0.44329897, 0.55670103],\n",
              "       [0.22395833, 0.77604167],\n",
              "       [0.        , 1.        ],\n",
              "       [0.87046632, 0.12953368],\n",
              "       [0.78212291, 0.21787709],\n",
              "       [0.00507614, 0.99492386],\n",
              "       [1.        , 0.        ],\n",
              "       [1.        , 0.        ],\n",
              "       [1.        , 0.        ],\n",
              "       [0.        , 1.        ],\n",
              "       [0.02884615, 0.97115385],\n",
              "       [0.96571429, 0.03428571],\n",
              "       [0.93478261, 0.06521739],\n",
              "       [1.        , 0.        ],\n",
              "       [0.49756098, 0.50243902],\n",
              "       [1.        , 0.        ],\n",
              "       [0.        , 1.        ],\n",
              "       [1.        , 0.        ],\n",
              "       [0.01604278, 0.98395722],\n",
              "       [1.        , 0.        ],\n",
              "       [1.        , 0.        ],\n",
              "       [1.        , 0.        ],\n",
              "       [0.        , 1.        ],\n",
              "       [0.96987952, 0.03012048],\n",
              "       [0.        , 1.        ],\n",
              "       [0.05747126, 0.94252874],\n",
              "       [0.        , 1.        ],\n",
              "       [0.        , 1.        ],\n",
              "       [1.        , 0.        ],\n",
              "       [1.        , 0.        ],\n",
              "       [0.        , 1.        ],\n",
              "       [0.98989899, 0.01010101],\n",
              "       [0.01675978, 0.98324022],\n",
              "       [1.        , 0.        ],\n",
              "       [0.13541667, 0.86458333],\n",
              "       [0.        , 1.        ],\n",
              "       [0.00546448, 0.99453552],\n",
              "       [0.        , 1.        ],\n",
              "       [0.41836735, 0.58163265],\n",
              "       [0.11309524, 0.88690476],\n",
              "       [0.22110553, 0.77889447],\n",
              "       [1.        , 0.        ],\n",
              "       [0.97647059, 0.02352941],\n",
              "       [0.22826087, 0.77173913],\n",
              "       [0.98882682, 0.01117318],\n",
              "       [0.        , 1.        ],\n",
              "       [0.        , 1.        ],\n",
              "       [1.        , 0.        ],\n",
              "       [0.96428571, 0.03571429],\n",
              "       [0.33507853, 0.66492147],\n",
              "       [0.98235294, 0.01764706],\n",
              "       [1.        , 0.        ],\n",
              "       [0.        , 1.        ],\n",
              "       [0.99465241, 0.00534759],\n",
              "       [0.        , 1.        ],\n",
              "       [0.06043956, 0.93956044],\n",
              "       [0.97619048, 0.02380952],\n",
              "       [1.        , 0.        ],\n",
              "       [0.03108808, 0.96891192],\n",
              "       [0.57291667, 0.42708333]])"
            ]
          },
          "metadata": {
            "tags": []
          },
          "execution_count": 21
        }
      ]
    },
    {
      "metadata": {
        "id": "Dq0zCREWB--C",
        "colab_type": "code",
        "colab": {
          "base_uri": "https://localhost:8080/",
          "height": 36
        },
        "outputId": "23f2bf14-3888-4bb5-867f-bde7cbff1bdb"
      },
      "cell_type": "code",
      "source": [
        "from sklearn.metrics import accuracy_score\n",
        "y_pred = bag_clf.predict(X_test)\n",
        "# 배깅만 한것보다 결과 더 좋음\n",
        "accuracy_score(y_test, y_pred)"
      ],
      "execution_count": 22,
      "outputs": [
        {
          "output_type": "execute_result",
          "data": {
            "text/plain": [
              "0.912"
            ]
          },
          "metadata": {
            "tags": []
          },
          "execution_count": 22
        }
      ]
    },
    {
      "metadata": {
        "id": "-pQBh0pNB--G",
        "colab_type": "text"
      },
      "cell_type": "markdown",
      "source": [
        "# Random Patches & Random Subspaces\n",
        "-  BaggingClassifier class는 features를 샘플링하는 것도 지원한다. \n",
        "    - 샘플링은 두 가지 hyperparameters(max_features, bootstrap_features)로 통제\n",
        "    - max_samples와 bootstrap과 동일한 방식으로 작동한다. 다른 점은 instance sampling이 아니라 feature sampling 한다는 점\n",
        "- 이미지와 같은 고차원 inputs을 다루는 데에 특히 유용하다.\n",
        "- training instances와 features를 모두 샘플링하는 것을 Random Patches method라고 한다\n",
        "- 모든 training instances를 유지하고(bootstrap=False & max_samples=1.0) features는 sampling(bootstrap_features=True and/or max_features < 1.0)하는 것을 Random Subspaces method라고 한다.\n",
        "- Sampling features는 더 다양한 예측기를 만들 수 있고 편향을 늘리고 분산을 낮춘다."
      ]
    },
    {
      "metadata": {
        "id": "OrCjit0FB--I",
        "colab_type": "text"
      },
      "cell_type": "markdown",
      "source": [
        "# 랜덤 포레스트 Random Forests\n",
        "- 배깅을 적용한 결정트리 앙상블\n",
        "- max_samples 를 훈련세트의 크기로 지정\n",
        "- 배깅 클레스파이어 대신 결정트리에 최적화된 랜덤포레스트클레시파이어 사용가능함.\n",
        "- 트리의 노드를 분할 할 때 전체 특성 중 최선의 특성을 찾는 대신 무작위로 선택한 특성 후보중 최적의 특성을 찾는 식으로 무작위성을 주입한다. 이것이 트리를 다양하게 만들고 편향을 손해보는 대신 분산을 낮추므로 전체적으로는 더 좋은 모델이 된다."
      ]
    },
    {
      "metadata": {
        "id": "wAEKd2aiB--J",
        "colab_type": "text"
      },
      "cell_type": "markdown",
      "source": [
        "### random forest v1 "
      ]
    },
    {
      "metadata": {
        "id": "7rviA5R9B--K",
        "colab_type": "code",
        "colab": {}
      },
      "cell_type": "code",
      "source": [
        "bag_clf = BaggingClassifier(\n",
        "    DecisionTreeClassifier(splitter=\"random\", max_leaf_nodes=16, random_state=42),\n",
        "    n_estimators=500, max_samples=1.0, bootstrap=True, n_jobs=-1, random_state=42)"
      ],
      "execution_count": 0,
      "outputs": []
    },
    {
      "metadata": {
        "id": "Yz5gNce4B--T",
        "colab_type": "code",
        "colab": {}
      },
      "cell_type": "code",
      "source": [
        "bag_clf.fit(X_train, y_train)\n",
        "y_pred = bag_clf.predict(X_test)"
      ],
      "execution_count": 0,
      "outputs": []
    },
    {
      "metadata": {
        "id": "Qlc6cUJ-B--W",
        "colab_type": "text"
      },
      "cell_type": "markdown",
      "source": [
        "### random forest v2 "
      ]
    },
    {
      "metadata": {
        "id": "3uvvEytnB--Y",
        "colab_type": "code",
        "colab": {}
      },
      "cell_type": "code",
      "source": [
        "from sklearn.ensemble import RandomForestClassifier\n",
        "\n",
        "rnd_clf = RandomForestClassifier(n_estimators=500, max_leaf_nodes=16, n_jobs=-1, random_state=42)\n",
        "rnd_clf.fit(X_train, y_train)\n",
        "\n",
        "y_pred_rf = rnd_clf.predict(X_test)"
      ],
      "execution_count": 0,
      "outputs": []
    },
    {
      "metadata": {
        "id": "hubv9713B--d",
        "colab_type": "code",
        "colab": {
          "base_uri": "https://localhost:8080/",
          "height": 36
        },
        "outputId": "290a8a34-df5a-4c0b-b527-252308fa9c1f"
      },
      "cell_type": "code",
      "source": [
        "# 예측값이 같으면 1 다르면 0으로 하여 그 모든 값들을 더하여 예측값 길이로 나눔\n",
        "# 1에 가까울수록 두 모델 예측이 비슷하다는 것\n",
        "# 결과를 보면 거의 동일하다.\n",
        "np.sum(y_pred == y_pred_rf) / len(y_pred)  # 거의 동일한 예측"
      ],
      "execution_count": 26,
      "outputs": [
        {
          "output_type": "execute_result",
          "data": {
            "text/plain": [
              "0.976"
            ]
          },
          "metadata": {
            "tags": []
          },
          "execution_count": 26
        }
      ]
    },
    {
      "metadata": {
        "id": "GPW1UECfB--m",
        "colab_type": "text"
      },
      "cell_type": "markdown",
      "source": [
        "## 특성 중요도\n",
        "- 랜덤포레스트는 특성의 상대적 중요도를 측정하기 쉽다.\n",
        "- 사이킷런은 어떤 특성을 사용한 노드가 평균적으로 불순도를 얼마나 감소시키는지 확인하여 특성의 중요도를 측정.\n",
        "- 가중치의 평균과 각 노드의 가중치는 연관된 훈련의 샘플 수와 같다.\n",
        "- 사이킷런에서는 훈련이 끝난 후 특성마다 자동으로 점수를 계산하고 중요도의 전체합이 1이 되도록 결과를 정규화시켜준다."
      ]
    },
    {
      "metadata": {
        "id": "n1rey2gMB--o",
        "colab_type": "text"
      },
      "cell_type": "markdown",
      "source": [
        "####  붓꽃(iris) 데이터로 확인하기"
      ]
    },
    {
      "metadata": {
        "id": "hGg2rcnGB--s",
        "colab_type": "code",
        "colab": {
          "base_uri": "https://localhost:8080/",
          "height": 92
        },
        "outputId": "2a04d7e9-d8b0-4be6-ce51-0ba311f90412"
      },
      "cell_type": "code",
      "source": [
        "from sklearn.datasets import load_iris\n",
        "iris = load_iris()\n",
        "# 결정트리가 500개인 랜덤포레스트\n",
        "rnd_clf = RandomForestClassifier(n_estimators=500, n_jobs=-1, random_state=42)\n",
        "rnd_clf.fit(iris[\"data\"], iris[\"target\"])\n",
        "for name, score in zip(iris[\"feature_names\"], rnd_clf.feature_importances_):\n",
        "    print(name, score)"
      ],
      "execution_count": 27,
      "outputs": [
        {
          "output_type": "stream",
          "text": [
            "sepal length (cm) 0.11249225099876374\n",
            "sepal width (cm) 0.023119288282510326\n",
            "petal length (cm) 0.44103046436395765\n",
            "petal width (cm) 0.4233579963547681\n"
          ],
          "name": "stdout"
        }
      ]
    },
    {
      "metadata": {
        "id": "Be7VSds-B--3",
        "colab_type": "code",
        "colab": {
          "base_uri": "https://localhost:8080/",
          "height": 36
        },
        "outputId": "19aae82c-b8f1-4a65-ce56-40570de11146"
      },
      "cell_type": "code",
      "source": [
        "# 특성마다 중요도를 지닌다.\n",
        "# 중요도의 합은 1이다.\n",
        "rnd_clf.feature_importances_"
      ],
      "execution_count": 28,
      "outputs": [
        {
          "output_type": "execute_result",
          "data": {
            "text/plain": [
              "array([0.11249225, 0.02311929, 0.44103046, 0.423358  ])"
            ]
          },
          "metadata": {
            "tags": []
          },
          "execution_count": 28
        }
      ]
    },
    {
      "metadata": {
        "id": "NBLcJ95zB-_G",
        "colab_type": "code",
        "colab": {
          "base_uri": "https://localhost:8080/",
          "height": 295
        },
        "outputId": "9d8391be-b2b4-4fa8-8174-d070c5f0fc88"
      },
      "cell_type": "code",
      "source": [
        "plt.figure(figsize=(6, 4))\n",
        "\n",
        "# 15번 반복한다. 겹쳐서 보여지게 함.\n",
        "for i in range(15):\n",
        "    tree_clf = DecisionTreeClassifier(max_leaf_nodes=16, random_state=42 + i)\n",
        "    indices_with_replacement = np.random.randint(0, len(X_train), len(X_train))\n",
        "    tree_clf.fit(X[indices_with_replacement], y[indices_with_replacement])\n",
        "    plot_decision_boundary(tree_clf, X, y, axes=[-1.5, 2.5, -1, 1.5], alpha=0.02, contour=False)\n",
        "\n",
        "plt.show()"
      ],
      "execution_count": 29,
      "outputs": [
        {
          "output_type": "display_data",
          "data": {
            "image/png": "[encoded data removed]",
            "text/plain": [
              "<Figure size 432x288 with 1 Axes>"
            ]
          },
          "metadata": {
            "tags": []
          }
        }
      ]
    },
    {
      "metadata": {
        "id": "JSJCJbJcB-_M",
        "colab_type": "text"
      },
      "cell_type": "markdown",
      "source": [
        "#### MNIST dataset으로 확인 "
      ]
    },
    {
      "metadata": {
        "scrolled": true,
        "id": "c3nDNb86B-_N",
        "colab_type": "code",
        "colab": {}
      },
      "cell_type": "code",
      "source": [
        "# from sklearn.datasets import fetch_mldata\n",
        "# mnist = fetch_mldata('MNIST original')\n",
        "from sklearn.datasets import fetch_openml\n",
        "mnist = fetch_openml('mnist_784', version=1)"
      ],
      "execution_count": 0,
      "outputs": []
    },
    {
      "metadata": {
        "scrolled": true,
        "id": "XeBGIbLbB-_R",
        "colab_type": "code",
        "colab": {
          "base_uri": "https://localhost:8080/",
          "height": 129
        },
        "outputId": "74632707-6380-42f8-f848-0cfe34c244ec"
      },
      "cell_type": "code",
      "source": [
        "rnd_clf = RandomForestClassifier(n_estimators=10, random_state=42)\n",
        "rnd_clf.fit(mnist[\"data\"], mnist[\"target\"])"
      ],
      "execution_count": 31,
      "outputs": [
        {
          "output_type": "execute_result",
          "data": {
            "text/plain": [
              "RandomForestClassifier(bootstrap=True, class_weight=None, criterion='gini',\n",
              "            max_depth=None, max_features='auto', max_leaf_nodes=None,\n",
              "            min_impurity_decrease=0.0, min_impurity_split=None,\n",
              "            min_samples_leaf=1, min_samples_split=2,\n",
              "            min_weight_fraction_leaf=0.0, n_estimators=10, n_jobs=None,\n",
              "            oob_score=False, random_state=42, verbose=0, warm_start=False)"
            ]
          },
          "metadata": {
            "tags": []
          },
          "execution_count": 31
        }
      ]
    },
    {
      "metadata": {
        "id": "iXQQFy9AB-_W",
        "colab_type": "code",
        "colab": {}
      },
      "cell_type": "code",
      "source": [
        "def plot_digit(data):\n",
        "    image = data.reshape(28, 28)\n",
        "    plt.imshow(image, cmap = matplotlib.cm.hot,\n",
        "               interpolation=\"nearest\")\n",
        "    plt.axis(\"off\")"
      ],
      "execution_count": 0,
      "outputs": []
    },
    {
      "metadata": {
        "id": "aldVVHn1B-_b",
        "colab_type": "code",
        "colab": {
          "base_uri": "https://localhost:8080/",
          "height": 273
        },
        "outputId": "68645ee1-ef72-44cd-b6db-8922b994d720"
      },
      "cell_type": "code",
      "source": [
        "plot_digit(rnd_clf.feature_importances_)\n",
        "\n",
        "cbar = plt.colorbar(ticks=[rnd_clf.feature_importances_.min(), rnd_clf.feature_importances_.max()])\n",
        "cbar.ax.set_yticklabels(['중요하지 않음', '매우 중요함'])\n",
        "\n",
        "# save_fig(\"mnist_feature_importance_plot\")\n",
        "plt.show()"
      ],
      "execution_count": 33,
      "outputs": [
        {
          "output_type": "display_data",
          "data": {
            "image/png": "[encoded data removed]",
            "text/plain": [
              "<Figure size 432x288 with 2 Axes>"
            ]
          },
          "metadata": {
            "tags": []
          }
        }
      ]
    },
    {
      "metadata": {
        "id": "0kLrKKyyB-_g",
        "colab_type": "text"
      },
      "cell_type": "markdown",
      "source": [
        "# 부스팅 boosting\n",
        "- 원래는 hypothesis boosting\n",
        "- 약한 학습기를 여러개 연결하여 강한 학습기를 만드는 앙상블 방법 \n",
        "- 일반적인 부스팅 방법은 예측기를 sequentially 학습시키고 각 예측기를 고치는 것이다.\n",
        "- AdaBoost(Adaptive Boosting의 준말)와 Gradient Boosting을 제일 많이 사용한다."
      ]
    },
    {
      "metadata": {
        "id": "BQN0eBF8B-_i",
        "colab_type": "text"
      },
      "cell_type": "markdown",
      "source": [
        "## 아다부스트 AdaBoost"
      ]
    },
    {
      "metadata": {
        "id": "-Rl9HEnNB-_j",
        "colab_type": "text"
      },
      "cell_type": "markdown",
      "source": [
        "![image.png](https://res.cloudinary.com/dyd911kmh/image/upload/f_auto,q_auto:best/v1542651255/image_3_nwa5zf.png)"
      ]
    },
    {
      "metadata": {
        "id": "cC_m_DhfB-_k",
        "colab_type": "text"
      },
      "cell_type": "markdown",
      "source": [
        "- 이전 예측기를 보완하는 새로운 예측기를 만드려면 이전 모델이 과소적합했던 훈련 샘플의 가중치를 더 높이는 것이며 새로운 예측기는 학습하기 어려운 샘플에 더 맞추어진다. 이 방법이 아다부스트에서 사용되는 방법이다.\n",
        "- 첫번째 분류기 훈련 -> 잘못분류된 훈련샘플가중치 높이기 -> 두번째 분류기에서 업데이트된 가중치 사용하여 훈련, 다시 예측 -> 업데이트"
      ]
    },
    {
      "metadata": {
        "id": "Ak3XAzt3B-_l",
        "colab_type": "text"
      },
      "cell_type": "markdown",
      "source": [
        "### AdaBoost algorithm\n",
        "- weight는 1/m으로 초기화"
      ]
    },
    {
      "metadata": {
        "id": "XsaFM1RcB-_m",
        "colab_type": "text"
      },
      "cell_type": "markdown",
      "source": [
        "![adaboost_algorithm.png](https://www.cc.gatech.edu/~kihwan23/imageCV/Final2005/images/Adaboost.JPG)"
      ]
    },
    {
      "metadata": {
        "id": "ZayUWLFlB-_p",
        "colab_type": "text"
      },
      "cell_type": "markdown",
      "source": [
        "* 새로운 예측기가 업데이트된 weights로 학습되고 \n",
        "* 이 프로세스는 반복된다.\n",
        "* 설정한 예측기 숫자에 도달하거나 완벽한 예측기가 발견되면 알고리즘은 멈춘다.\n",
        "\n",
        "* 예측시에 AdaBoost는 예측기 가중치 $ \\alpha_j $를 사용하여 모든 예측기의 예측값과 가중치를 계산한다."
      ]
    },
    {
      "metadata": {
        "id": "bo6A503sB-_q",
        "colab_type": "text"
      },
      "cell_type": "markdown",
      "source": [
        "![image.png](https://www.cc.gatech.edu/~kihwan23/imageCV/Final2005/images/bestrong.JPG)"
      ]
    },
    {
      "metadata": {
        "id": "8BGhXoG8B-_r",
        "colab_type": "code",
        "colab": {},
        "outputId": "a1fed89c-e5c2-4320-9e7a-1747a01d0cb9"
      },
      "cell_type": "code",
      "source": [
        "from sklearn.ensemble import AdaBoostClassifier\n",
        "\n",
        "# 200개의 얕은 결정트리를 기반으로 함\n",
        "# Scikit-learn은 AdaBoost의 multiclass version을 사용한다 \n",
        "# 이를 SAMME라고 부른다\n",
        "# (Stagewise Additive Modeling using a Multiclass Exponential loss function)\n",
        "# R은 Real을 뜻함.\n",
        "ada_clf = AdaBoostClassifier(\n",
        "    DecisionTreeClassifier(max_depth=1), n_estimators=200,\n",
        "    algorithm=\"SAMME.R\", learning_rate=0.5, random_state=42)\n",
        "ada_clf.fit(X_train, y_train)"
      ],
      "execution_count": 0,
      "outputs": [
        {
          "output_type": "execute_result",
          "data": {
            "text/plain": [
              "AdaBoostClassifier(algorithm='SAMME.R',\n",
              "          base_estimator=DecisionTreeClassifier(class_weight=None, criterion='gini', max_depth=1,\n",
              "            max_features=None, max_leaf_nodes=None,\n",
              "            min_impurity_decrease=0.0, min_impurity_split=None,\n",
              "            min_samples_leaf=1, min_samples_split=2,\n",
              "            min_weight_fraction_leaf=0.0, presort=False, random_state=None,\n",
              "            splitter='best'),\n",
              "          learning_rate=0.5, n_estimators=200, random_state=42)"
            ]
          },
          "metadata": {
            "tags": []
          },
          "execution_count": 27
        }
      ]
    },
    {
      "metadata": {
        "id": "cvznohJcB-_3",
        "colab_type": "code",
        "colab": {},
        "outputId": "7a53a1e2-7970-45bf-95bb-b5b89cf569fb"
      },
      "cell_type": "code",
      "source": [
        "plot_decision_boundary(ada_clf, X, y)"
      ],
      "execution_count": 0,
      "outputs": [
        {
          "output_type": "display_data",
          "data": {
            "image/png": "[encoded data removed]",
            "text/plain": [
              "<Figure size 432x288 with 1 Axes>"
            ]
          },
          "metadata": {
            "tags": [],
            "needs_background": "light"
          }
        }
      ]
    },
    {
      "metadata": {
        "id": "NV6xuvC2B-_9",
        "colab_type": "code",
        "colab": {},
        "outputId": "e6a3914c-56db-4787-dda6-88829e0197c9"
      },
      "cell_type": "code",
      "source": [
        "m = len(X_train)\n",
        "\n",
        "plt.figure(figsize=(11, 4))\n",
        "for subplot, learning_rate in ((121, 1), (122, 0.5)):\n",
        "    sample_weights = np.ones(m)\n",
        "    plt.subplot(subplot)\n",
        "    if subplot == 121:\n",
        "        # 1~5까지는 처음 예측기 결과~ 마지막 예측기 결과를 집어주는 역할\n",
        "        # 5로 갈수록 예측기가 더 나아진다.\n",
        "        plt.text(-0.7, -0.65, \"1\", fontsize=14)\n",
        "        plt.text(-0.6, -0.10, \"2\", fontsize=14)\n",
        "        plt.text(-0.5,  0.10, \"3\", fontsize=14)\n",
        "        plt.text(-0.4,  0.55, \"4\", fontsize=14)\n",
        "        plt.text(-0.3,  0.90, \"5\", fontsize=14)        \n",
        "    for i in range(5):\n",
        "        svm_clf = SVC(kernel=\"rbf\", C=0.05, gamma='auto', random_state=42)\n",
        "        svm_clf.fit(X_train, y_train, sample_weight=sample_weights)\n",
        "        y_pred = svm_clf.predict(X_train)\n",
        "        sample_weights[y_pred != y_train] *= (1 + learning_rate)\n",
        "        plot_decision_boundary(svm_clf, X, y, alpha=0.2)\n",
        "        plt.title(\"learning_rate = {}\".format(learning_rate), fontsize=16)\n",
        "\n",
        "# save_fig(\"boosting_plot\")\n",
        "plt.show()"
      ],
      "execution_count": 0,
      "outputs": [
        {
          "output_type": "display_data",
          "data": {
            "image/png": "[encoded data removed]",
            "text/plain": [
              "<Figure size 792x288 with 2 Axes>"
            ]
          },
          "metadata": {
            "tags": [],
            "needs_background": "light"
          }
        }
      ]
    },
    {
      "metadata": {
        "id": "K3W-pAr6B_AB",
        "colab_type": "code",
        "colab": {},
        "outputId": "ff5faa9b-3ae8-4d80-a231-1023db6ec735"
      },
      "cell_type": "code",
      "source": [
        "list(m for m in dir(ada_clf) if not m.startswith(\"_\") and m.endswith(\"_\"))"
      ],
      "execution_count": 0,
      "outputs": [
        {
          "output_type": "execute_result",
          "data": {
            "text/plain": [
              "['base_estimator_',\n",
              " 'classes_',\n",
              " 'estimator_errors_',\n",
              " 'estimator_weights_',\n",
              " 'estimators_',\n",
              " 'feature_importances_',\n",
              " 'n_classes_']"
            ]
          },
          "metadata": {
            "tags": []
          },
          "execution_count": 32
        }
      ]
    },
    {
      "metadata": {
        "id": "b5fUCGq0B_AH",
        "colab_type": "text"
      },
      "cell_type": "markdown",
      "source": [
        "# 그래디언트 부스팅 Gradient Boosting\n",
        "* AdaBoost와 동일하게 이전 예측기를 올바르게 고치면서 sequential하게 예측기를 앙상블에 추가한다.\n",
        "* 아다부스트는 매 iteration마다 instance의 가중치를 수정하는 데 반해, GB는 이전 예측기가 만든 잔여 오차(residual errors)에 새로운 예측기를 학습"
      ]
    },
    {
      "metadata": {
        "id": "crFdKaClB_AI",
        "colab_type": "code",
        "colab": {}
      },
      "cell_type": "code",
      "source": [
        "# 데이터 만들기\n",
        "np.random.seed(42)\n",
        "X = np.random.rand(100, 1) - 0.5\n",
        "y = 3*X[:, 0]**2 + 0.05 * np.random.randn(100)"
      ],
      "execution_count": 0,
      "outputs": []
    },
    {
      "metadata": {
        "id": "8peZYWC6B_AL",
        "colab_type": "text"
      },
      "cell_type": "markdown",
      "source": [
        "### gradient boosting을 manual하게 구성해보기"
      ]
    },
    {
      "metadata": {
        "id": "P9W9fi7oB_AM",
        "colab_type": "code",
        "colab": {},
        "outputId": "8a0fe3e4-190a-4383-92bd-fb72139bf7d3"
      },
      "cell_type": "code",
      "source": [
        "from sklearn.tree import DecisionTreeRegressor\n",
        "# 처음 예측기\n",
        "tree_reg1 = DecisionTreeRegressor(max_depth=2, random_state=42)\n",
        "tree_reg1.fit(X, y)"
      ],
      "execution_count": 0,
      "outputs": [
        {
          "output_type": "execute_result",
          "data": {
            "text/plain": [
              "DecisionTreeRegressor(criterion='mse', max_depth=2, max_features=None,\n",
              "           max_leaf_nodes=None, min_impurity_decrease=0.0,\n",
              "           min_impurity_split=None, min_samples_leaf=1,\n",
              "           min_samples_split=2, min_weight_fraction_leaf=0.0,\n",
              "           presort=False, random_state=42, splitter='best')"
            ]
          },
          "metadata": {
            "tags": []
          },
          "execution_count": 30
        }
      ]
    },
    {
      "metadata": {
        "id": "3zUMhoufB_Af",
        "colab_type": "code",
        "colab": {},
        "outputId": "230ac7b9-79e9-4649-c56f-729e0bad7695"
      },
      "cell_type": "code",
      "source": [
        "# 이전 예측기의 오차를 활용하여 다음 예측기를 학습\n",
        "y2 = y - tree_reg1.predict(X)\n",
        "tree_reg2 = DecisionTreeRegressor(max_depth=2, random_state=42)\n",
        "tree_reg2.fit(X, y2)"
      ],
      "execution_count": 0,
      "outputs": [
        {
          "output_type": "execute_result",
          "data": {
            "text/plain": [
              "DecisionTreeRegressor(criterion='mse', max_depth=2, max_features=None,\n",
              "           max_leaf_nodes=None, min_impurity_decrease=0.0,\n",
              "           min_impurity_split=None, min_samples_leaf=1,\n",
              "           min_samples_split=2, min_weight_fraction_leaf=0.0,\n",
              "           presort=False, random_state=42, splitter='best')"
            ]
          },
          "metadata": {
            "tags": []
          },
          "execution_count": 31
        }
      ]
    },
    {
      "metadata": {
        "id": "K920_961B_Aj",
        "colab_type": "code",
        "colab": {},
        "outputId": "d5c31e41-3911-4438-c8cd-f666c7c143b1"
      },
      "cell_type": "code",
      "source": [
        "y3 = y2 - tree_reg2.predict(X)\n",
        "tree_reg3 = DecisionTreeRegressor(max_depth=2, random_state=42)\n",
        "tree_reg3.fit(X, y3)"
      ],
      "execution_count": 0,
      "outputs": [
        {
          "output_type": "execute_result",
          "data": {
            "text/plain": [
              "DecisionTreeRegressor(criterion='mse', max_depth=2, max_features=None,\n",
              "           max_leaf_nodes=None, min_impurity_decrease=0.0,\n",
              "           min_impurity_split=None, min_samples_leaf=1,\n",
              "           min_samples_split=2, min_weight_fraction_leaf=0.0,\n",
              "           presort=False, random_state=42, splitter='best')"
            ]
          },
          "metadata": {
            "tags": []
          },
          "execution_count": 32
        }
      ]
    },
    {
      "metadata": {
        "id": "D31650iRB_Ao",
        "colab_type": "code",
        "colab": {}
      },
      "cell_type": "code",
      "source": [
        "X_new = np.array([[0.8]])"
      ],
      "execution_count": 0,
      "outputs": []
    },
    {
      "metadata": {
        "id": "8qt3RXdxB_As",
        "colab_type": "code",
        "colab": {}
      },
      "cell_type": "code",
      "source": [
        "# 모든 예측기의 합을 이용하여 예측한다.\n",
        "y_pred = sum(tree.predict(X_new) for tree in (tree_reg1, tree_reg2, tree_reg3))"
      ],
      "execution_count": 0,
      "outputs": []
    },
    {
      "metadata": {
        "id": "8DTvudnrB_Ay",
        "colab_type": "code",
        "colab": {},
        "outputId": "6c3eb976-4ea8-4d4c-8fd7-4362bee687d0"
      },
      "cell_type": "code",
      "source": [
        "y_pred"
      ],
      "execution_count": 0,
      "outputs": [
        {
          "output_type": "execute_result",
          "data": {
            "text/plain": [
              "array([0.75026781])"
            ]
          },
          "metadata": {
            "tags": []
          },
          "execution_count": 35
        }
      ]
    },
    {
      "metadata": {
        "id": "HrELY6YaB_A4",
        "colab_type": "code",
        "colab": {},
        "outputId": "ab9d1c35-3fb7-4fb6-ded9-d46048d94782"
      },
      "cell_type": "code",
      "source": [
        "def plot_predictions(regressors, X, y, axes, label=None, style=\"r-\", data_style=\"b.\", data_label=None):\n",
        "    x1 = np.linspace(axes[0], axes[1], 500)\n",
        "    y_pred = sum(regressor.predict(x1.reshape(-1, 1)) for regressor in regressors)\n",
        "    plt.plot(X[:, 0], y, data_style, label=data_label)\n",
        "    plt.plot(x1, y_pred, style, linewidth=2, label=label)\n",
        "    if label or data_label:\n",
        "        plt.legend(loc=\"upper center\", fontsize=16)\n",
        "    plt.axis(axes)\n",
        "\n",
        "plt.figure(figsize=(11,11))\n",
        "\n",
        "plt.subplot(321)\n",
        "plot_predictions([tree_reg1], X, y, axes=[-0.5, 0.5, -0.1, 0.8], label=\"$h_1(x_1)$\", style=\"g-\", data_label=\"훈련 세트\")\n",
        "plt.ylabel(\"$y$\", fontsize=16, rotation=0)\n",
        "plt.title(\"잔여 오차와 트리의 예측\", fontsize=16)\n",
        "\n",
        "plt.subplot(322)\n",
        "plot_predictions([tree_reg1], X, y, axes=[-0.5, 0.5, -0.1, 0.8], label=\"$h(x_1) = h_1(x_1)$\", data_label=\"훈련 세트\")\n",
        "plt.ylabel(\"$y$\", fontsize=16, rotation=0)\n",
        "plt.title(\"앙상블의 예측\", fontsize=16)\n",
        "\n",
        "plt.subplot(323)\n",
        "plot_predictions([tree_reg2], X, y2, axes=[-0.5, 0.5, -0.5, 0.5], label=\"$h_2(x_1)$\", style=\"g-\", data_style=\"k+\", data_label=\"잔여 오차\")\n",
        "plt.ylabel(\"$y - h_1(x_1)$\", fontsize=16)\n",
        "\n",
        "plt.subplot(324)\n",
        "plot_predictions([tree_reg1, tree_reg2], X, y, axes=[-0.5, 0.5, -0.1, 0.8], label=\"$h(x_1) = h_1(x_1) + h_2(x_1)$\")\n",
        "plt.ylabel(\"$y$\", fontsize=16, rotation=0)\n",
        "\n",
        "plt.subplot(325)\n",
        "plot_predictions([tree_reg3], X, y3, axes=[-0.5, 0.5, -0.5, 0.5], label=\"$h_3(x_1)$\", style=\"g-\", data_style=\"k+\")\n",
        "plt.ylabel(\"$y - h_1(x_1) - h_2(x_1)$\", fontsize=16)\n",
        "plt.xlabel(\"$x_1$\", fontsize=16)\n",
        "\n",
        "plt.subplot(326)\n",
        "plot_predictions([tree_reg1, tree_reg2, tree_reg3], X, y, axes=[-0.5, 0.5, -0.1, 0.8], label=\"$h(x_1) = h_1(x_1) + h_2(x_1) + h_3(x_1)$\")\n",
        "plt.xlabel(\"$x_1$\", fontsize=16)\n",
        "plt.ylabel(\"$y$\", fontsize=16, rotation=0)\n",
        "\n",
        "# save_fig(\"gradient_boosting_plot\")\n",
        "plt.show()"
      ],
      "execution_count": 0,
      "outputs": [
        {
          "output_type": "display_data",
          "data": {
            "image/png": "[encoded data removed]",
            "text/plain": [
              "<Figure size 792x792 with 6 Axes>"
            ]
          },
          "metadata": {
            "tags": [],
            "needs_background": "light"
          }
        }
      ]
    },
    {
      "metadata": {
        "id": "hjG-R3XZB_A_",
        "colab_type": "text"
      },
      "cell_type": "markdown",
      "source": [
        "### 만들어져있는 gradient boosting 사용하기\n",
        "* 추가적으로 예측기를 몇개로 넣을지 문제에 대해 생각해보자\n",
        "* 예측기가 부족하면 underfit, 너무 많으면 overfit될 것이다.\n",
        "* 적절한 예측기 개수를 삽입하는 것이 중요하다."
      ]
    },
    {
      "metadata": {
        "scrolled": true,
        "id": "CETpcGWRB_BA",
        "colab_type": "code",
        "colab": {},
        "outputId": "6b3de6b8-9e17-4acf-da00-e0eccc410dc8"
      },
      "cell_type": "code",
      "source": [
        "from sklearn.ensemble import GradientBoostingRegressor\n",
        "\n",
        "# 예측기가 3개짜리임 : 부족함\n",
        "gbrt = GradientBoostingRegressor(max_depth=2, n_estimators=3, learning_rate=0.1, random_state=42)\n",
        "gbrt.fit(X, y)"
      ],
      "execution_count": 0,
      "outputs": [
        {
          "output_type": "execute_result",
          "data": {
            "text/plain": [
              "GradientBoostingRegressor(alpha=0.9, criterion='friedman_mse', init=None,\n",
              "             learning_rate=0.1, loss='ls', max_depth=2, max_features=None,\n",
              "             max_leaf_nodes=None, min_impurity_decrease=0.0,\n",
              "             min_impurity_split=None, min_samples_leaf=1,\n",
              "             min_samples_split=2, min_weight_fraction_leaf=0.0,\n",
              "             n_estimators=3, n_iter_no_change=None, presort='auto',\n",
              "             random_state=42, subsample=1.0, tol=0.0001,\n",
              "             validation_fraction=0.1, verbose=0, warm_start=False)"
            ]
          },
          "metadata": {
            "tags": []
          },
          "execution_count": 37
        }
      ]
    },
    {
      "metadata": {
        "id": "9ppUSrtGB_BD",
        "colab_type": "code",
        "colab": {},
        "outputId": "89cb57b2-aceb-4dfe-cbc9-1162f86dd236"
      },
      "cell_type": "code",
      "source": [
        "# 예측기가 200개짜리임 : 너무 많음\n",
        "gbrt_slow = GradientBoostingRegressor(max_depth=2, n_estimators=200, learning_rate=0.1, random_state=42)\n",
        "gbrt_slow.fit(X, y)"
      ],
      "execution_count": 0,
      "outputs": [
        {
          "output_type": "execute_result",
          "data": {
            "text/plain": [
              "GradientBoostingRegressor(alpha=0.9, criterion='friedman_mse', init=None,\n",
              "             learning_rate=0.1, loss='ls', max_depth=2, max_features=None,\n",
              "             max_leaf_nodes=None, min_impurity_decrease=0.0,\n",
              "             min_impurity_split=None, min_samples_leaf=1,\n",
              "             min_samples_split=2, min_weight_fraction_leaf=0.0,\n",
              "             n_estimators=200, n_iter_no_change=None, presort='auto',\n",
              "             random_state=42, subsample=1.0, tol=0.0001,\n",
              "             validation_fraction=0.1, verbose=0, warm_start=False)"
            ]
          },
          "metadata": {
            "tags": []
          },
          "execution_count": 38
        }
      ]
    },
    {
      "metadata": {
        "scrolled": true,
        "id": "AjEDMDPtB_BL",
        "colab_type": "code",
        "colab": {},
        "outputId": "4783e38e-7179-4895-d1fe-5927f9fd3bed"
      },
      "cell_type": "code",
      "source": [
        "plt.figure(figsize=(11,4))\n",
        "\n",
        "plt.subplot(121)\n",
        "plot_predictions([gbrt], X, y, axes=[-0.5, 0.5, -0.1, 0.8], label=\"앙상블의 예측\")\n",
        "plt.title(\"learning_rate={}, n_estimators={}\".format(gbrt.learning_rate, gbrt.n_estimators), fontsize=14)\n",
        "\n",
        "plt.subplot(122)\n",
        "plot_predictions([gbrt_slow], X, y, axes=[-0.5, 0.5, -0.1, 0.8])\n",
        "plt.title(\"learning_rate={}, n_estimators={}\".format(gbrt_slow.learning_rate, gbrt_slow.n_estimators), fontsize=14)\n",
        "\n",
        "# save_fig(\"gbrt_learning_rate_plot\")\n",
        "plt.show()"
      ],
      "execution_count": 0,
      "outputs": [
        {
          "output_type": "display_data",
          "data": {
            "image/png": "[encoded data removed]",
            "text/plain": [
              "<Figure size 792x288 with 2 Axes>"
            ]
          },
          "metadata": {
            "tags": [],
            "needs_background": "light"
          }
        }
      ]
    },
    {
      "metadata": {
        "id": "fuG5nrsOB_BP",
        "colab_type": "text"
      },
      "cell_type": "markdown",
      "source": [
        "## 조기 종료를 사용한 그래디언트 부스팅\n",
        "- 최적의 트리 개수를 정할 때, 조기 종료를 사용하면 된다.\n",
        "- staged_predict()를 사용\n",
        "    - training의 각 스테이지에서 앙상블에 의해 만들어진 예측값들에 대한 iterator를 반환"
      ]
    },
    {
      "metadata": {
        "id": "KcCafp6pB_BQ",
        "colab_type": "code",
        "colab": {},
        "outputId": "18064d5b-5ff4-4908-9aee-5d1eb3032463"
      },
      "cell_type": "code",
      "source": [
        "import numpy as np\n",
        "from sklearn.model_selection import train_test_split\n",
        "from sklearn.metrics import mean_squared_error\n",
        "\n",
        "X_train, X_val, y_train, y_val = train_test_split(X, y, random_state=49)\n",
        "\n",
        "gbrt = GradientBoostingRegressor(max_depth=2, n_estimators=120, random_state=42)\n",
        "gbrt.fit(X_train, y_train)\n",
        "\n",
        "errors = [mean_squared_error(y_val, y_pred)\n",
        "          for y_pred in gbrt.staged_predict(X_val)]\n",
        "# 에러가 가장 작은 예측기의 개수를 가져옴\n",
        "bst_n_estimators = np.argmin(errors)\n",
        "# 여기서 최적 개수는 55개\n",
        "gbrt_best = GradientBoostingRegressor(max_depth=2,n_estimators=bst_n_estimators, random_state=42)\n",
        "gbrt_best.fit(X_train, y_train)"
      ],
      "execution_count": 0,
      "outputs": [
        {
          "output_type": "execute_result",
          "data": {
            "text/plain": [
              "GradientBoostingRegressor(alpha=0.9, criterion='friedman_mse', init=None,\n",
              "             learning_rate=0.1, loss='ls', max_depth=2, max_features=None,\n",
              "             max_leaf_nodes=None, min_impurity_decrease=0.0,\n",
              "             min_impurity_split=None, min_samples_leaf=1,\n",
              "             min_samples_split=2, min_weight_fraction_leaf=0.0,\n",
              "             n_estimators=55, n_iter_no_change=None, presort='auto',\n",
              "             random_state=42, subsample=1.0, tol=0.0001,\n",
              "             validation_fraction=0.1, verbose=0, warm_start=False)"
            ]
          },
          "metadata": {
            "tags": []
          },
          "execution_count": 40
        }
      ]
    },
    {
      "metadata": {
        "id": "3lc1nYsVB_BX",
        "colab_type": "code",
        "colab": {}
      },
      "cell_type": "code",
      "source": [
        "min_error = np.min(errors)"
      ],
      "execution_count": 0,
      "outputs": []
    },
    {
      "metadata": {
        "id": "nVbgEUqkB_Bd",
        "colab_type": "code",
        "colab": {},
        "outputId": "4fb781c8-16ec-43d4-d2df-3ea87038169f"
      },
      "cell_type": "code",
      "source": [
        "bst_n_estimators"
      ],
      "execution_count": 0,
      "outputs": [
        {
          "output_type": "execute_result",
          "data": {
            "text/plain": [
              "55"
            ]
          },
          "metadata": {
            "tags": []
          },
          "execution_count": 42
        }
      ]
    },
    {
      "metadata": {
        "id": "1Oybf0cqB_Bl",
        "colab_type": "code",
        "colab": {},
        "outputId": "4ff891a4-91fc-4c9f-bca5-84487f50529d"
      },
      "cell_type": "code",
      "source": [
        "plt.figure(figsize=(11, 4))\n",
        "\n",
        "plt.subplot(121)\n",
        "plt.plot(errors, \"b.-\")\n",
        "plt.plot([bst_n_estimators, bst_n_estimators], [0, min_error], \"k--\")\n",
        "plt.plot([0, 120], [min_error, min_error], \"k--\")\n",
        "plt.plot(bst_n_estimators, min_error, \"ko\")\n",
        "plt.text(bst_n_estimators, min_error*1.2, \"최소\", ha=\"center\", fontsize=14)\n",
        "plt.axis([0, 120, 0, 0.01])\n",
        "plt.xlabel(\"트리 개수\")\n",
        "plt.title(\"검증 오차\", fontsize=14)\n",
        "\n",
        "plt.subplot(122)\n",
        "plot_predictions([gbrt_best], X, y, axes=[-0.5, 0.5, -0.1, 0.8])\n",
        "plt.title(\"최적 모델 (트리 %d개)\" % bst_n_estimators, fontsize=14)\n",
        "\n",
        "# save_fig(\"early_stopping_gbrt_plot\")\n",
        "plt.show()"
      ],
      "execution_count": 0,
      "outputs": [
        {
          "output_type": "display_data",
          "data": {
            "image/png": "[encoded data removed]",
            "text/plain": [
              "<Figure size 792x288 with 2 Axes>"
            ]
          },
          "metadata": {
            "tags": [],
            "needs_background": "light"
          }
        }
      ]
    },
    {
      "metadata": {
        "id": "_7tLeWTEB_Bo",
        "colab_type": "text"
      },
      "cell_type": "markdown",
      "source": [
        "#### training을 실제로 조기 종료하는 방법을 사용할 수도 있다.\n",
        "- warm_start=True\n",
        "    - fit()이 요청되었을 때, incremental training을 허용하여 Scikit-Learn이 기존의 트리를 유지하게 한다.\n",
        "- 다음의 코드는 validation error가 5번이나 연속으로 나아지지 않으면 training을 종료한다."
      ]
    },
    {
      "metadata": {
        "id": "N9B4z7z4B_Bp",
        "colab_type": "code",
        "colab": {}
      },
      "cell_type": "code",
      "source": [
        "gbrt = GradientBoostingRegressor(max_depth=2, warm_start=True, random_state=42)\n",
        "\n",
        "min_val_error = float(\"inf\")\n",
        "error_going_up = 0\n",
        "# 예측기 개수를 늘리면서 확인한다.\n",
        "for n_estimators in range(1, 120):\n",
        "    gbrt.n_estimators = n_estimators\n",
        "    gbrt.fit(X_train, y_train)\n",
        "    y_pred = gbrt.predict(X_val)\n",
        "    # 오차 계산 (MSE)\n",
        "    val_error = mean_squared_error(y_val, y_pred)\n",
        "    if val_error < min_val_error:\n",
        "        min_val_error = val_error\n",
        "        error_going_up = 0\n",
        "    else: # 최소 에러값보다 크면\n",
        "        error_going_up += 1 # 하나 증가\n",
        "        if error_going_up == 5: # 5가 도달하면\n",
        "            break  # 조기 종료"
      ],
      "execution_count": 0,
      "outputs": []
    },
    {
      "metadata": {
        "id": "zG8p-QyoB_Bs",
        "colab_type": "code",
        "colab": {},
        "outputId": "a271065e-d398-4aa0-e3f1-525b849cb72e"
      },
      "cell_type": "code",
      "source": [
        "print(gbrt.n_estimators)"
      ],
      "execution_count": 0,
      "outputs": [
        {
          "output_type": "stream",
          "text": [
            "61\n"
          ],
          "name": "stdout"
        }
      ]
    },
    {
      "metadata": {
        "id": "uO8t0M23B_By",
        "colab_type": "code",
        "colab": {},
        "outputId": "93f80c3f-dc90-4625-81d2-885eb8c1311c"
      },
      "cell_type": "code",
      "source": [
        "print(\"최소 검증 MSE:\", min_val_error)"
      ],
      "execution_count": 0,
      "outputs": [
        {
          "output_type": "stream",
          "text": [
            "최소 검증 MSE: 0.002712853325235463\n"
          ],
          "name": "stdout"
        }
      ]
    },
    {
      "metadata": {
        "id": "hoRVfuUXB_B2",
        "colab_type": "text"
      },
      "cell_type": "markdown",
      "source": [
        "# XGBoost"
      ]
    },
    {
      "metadata": {
        "id": "zeI25fuuB_B3",
        "colab_type": "code",
        "colab": {},
        "outputId": "9239e4d6-1881-4920-9d11-7e2ffaef271c"
      },
      "cell_type": "code",
      "source": [
        "try:\n",
        "    import xgboost\n",
        "except ImportError as ex:\n",
        "    print(\"에러: xgboost 라이브러리가 설치되지 않았습니다.\")\n",
        "    xgboost = None"
      ],
      "execution_count": 0,
      "outputs": [
        {
          "output_type": "stream",
          "text": [
            "에러: xgboost 라이브러리가 설치되지 않았습니다.\n"
          ],
          "name": "stdout"
        }
      ]
    },
    {
      "metadata": {
        "id": "1dZyPuoHB_B7",
        "colab_type": "code",
        "colab": {}
      },
      "cell_type": "code",
      "source": [
        "if xgboost is not None:  # 책에는 없음\n",
        "    xgb_reg = xgboost.XGBRegressor(random_state=42)\n",
        "    xgb_reg.fit(X_train, y_train)\n",
        "    y_pred = xgb_reg.predict(X_val)\n",
        "    val_error = mean_squared_error(y_val, y_pred)\n",
        "    print(\"검증 MSE:\", val_error)"
      ],
      "execution_count": 0,
      "outputs": []
    },
    {
      "metadata": {
        "id": "gM_Dq2I2B_B-",
        "colab_type": "code",
        "colab": {}
      },
      "cell_type": "code",
      "source": [
        "if xgboost is not None:  # 책에는 없음\n",
        "    xgb_reg.fit(X_train, y_train,\n",
        "                eval_set=[(X_val, y_val)], early_stopping_rounds=2)\n",
        "    y_pred = xgb_reg.predict(X_val)\n",
        "    val_error = mean_squared_error(y_val, y_pred)\n",
        "    print(\"검증 MSE:\", val_error)"
      ],
      "execution_count": 0,
      "outputs": []
    },
    {
      "metadata": {
        "id": "HRlDvToAB_CC",
        "colab_type": "code",
        "colab": {},
        "outputId": "dbc9402a-39ca-40ab-9765-a142250bbdf6"
      },
      "cell_type": "code",
      "source": [
        "%timeit xgboost.XGBRegressor().fit(X_train, y_train) if xgboost is not None else None"
      ],
      "execution_count": 0,
      "outputs": [
        {
          "output_type": "stream",
          "text": [
            "3.47 ms ± 41.2 µs per loop (mean ± std. dev. of 7 runs, 100 loops each)\n"
          ],
          "name": "stdout"
        }
      ]
    },
    {
      "metadata": {
        "id": "qkE8bqe2B_CH",
        "colab_type": "code",
        "colab": {},
        "outputId": "41fdcf2c-3303-4dc8-b026-f59519689647"
      },
      "cell_type": "code",
      "source": [
        "%timeit GradientBoostingRegressor().fit(X_train, y_train)"
      ],
      "execution_count": 0,
      "outputs": [
        {
          "output_type": "stream",
          "text": [
            "9.7 ms ± 129 µs per loop (mean ± std. dev. of 7 runs, 100 loops each)\n"
          ],
          "name": "stdout"
        }
      ]
    },
    {
      "metadata": {
        "id": "AqNzqkybTUQn",
        "colab_type": "text"
      },
      "cell_type": "markdown",
      "source": [
        "![Stacking](https://cdn-images-1.medium.com/max/1600/0*GXMZ7SIXHyVzGCE_.)"
      ]
    },
    {
      "metadata": {
        "id": "1yxZYoxXB_CM",
        "colab_type": "text"
      },
      "cell_type": "markdown",
      "source": [
        "# 스태킹 Stacking\n",
        "- stacked generalization의 준말\n",
        "- 앙상블엣 모든 예측기의 예측값을 aggregate하기 위해 사소한 functions(ex hard voting)를 이용하지 말고 이 aggregation을 모델이 수행하도록 학습시켜보는 것\n",
        "- 아래 그림 7-12는 새로운 인스턴스에 대한 회귀 과제를 수행하는 과정을 보여준다.\n",
        "    - 아래의 3개의 예측기는 서로 다른 3개의 값(3.1, 2.7, 2.9)을 예측한다.\n",
        "    - 마지막 예측기(blender or meta learner)가 아래의 3개 값을 input으로 받고 마지막 예측(3.0)을 한다."
      ]
    },
    {
      "metadata": {
        "id": "GqvF_BEjB_CP",
        "colab_type": "text"
      },
      "cell_type": "markdown",
      "source": [
        "![image.png](https://smartstuartkim.files.wordpress.com/2019/02/image-3.png)"
      ]
    },
    {
      "metadata": {
        "id": "uBDdm5LAB_CQ",
        "colab_type": "text"
      },
      "cell_type": "markdown",
      "source": [
        "#### blender를 학습시키기 위해서는\n",
        "* 보통 hold-out set을 이용한다\n",
        "* 먼저 training set을 2개의 subset으로 분리한다.\n",
        "* 첫번째 subset은 첫번째 층에서 예측기를 학습시키는데 사용된다."
      ]
    },
    {
      "metadata": {
        "id": "MCELEOYuB_CR",
        "colab_type": "text"
      },
      "cell_type": "markdown",
      "source": [
        "![image.png](https://smartstuartkim.files.wordpress.com/2019/02/image-4.png)"
      ]
    },
    {
      "metadata": {
        "id": "kA1gBWlGB_CS",
        "colab_type": "text"
      },
      "cell_type": "markdown",
      "source": [
        "- 다음으로 첫번째 층의 예측기들은 두번째 (held-out) set에서 예측값을 만드는 데에 사용된다. \n",
        "    - subset2 예측기들이 subset1 인스턴스들을 training동안 본 적이 없기 때문에 예측값이 깨끗한(clean) 것을 보장한다.\n",
        "    - hold-out set에서 3개의 예측값을 가진다.\n",
        "    - 이 3개의 예측값을 input으로 한 새로운 training set을 만든다.(3개의 차원을 지님)\n",
        "    - target values는 유지한다.\n",
        "    - blender는 새로운 training set에서 학습\n",
        "        - 첫 번째 층의 예측값이 주어졌을 때 target value를 예측하도록 학습한다."
      ]
    },
    {
      "metadata": {
        "id": "nBQr9B1gB_CT",
        "colab_type": "text"
      },
      "cell_type": "markdown",
      "source": [
        "![image.png](https://smartstuartkim.files.wordpress.com/2019/02/image-5.png)"
      ]
    },
    {
      "metadata": {
        "id": "lpOPLoSGB_CU",
        "colab_type": "text"
      },
      "cell_type": "markdown",
      "source": [
        "* 서로 다른 blender들을 학습시키는 방식은 실제로 가능하다.예를 들어 하나는 선형 회귀를 이요하고 다른 것은 랜덤포레스트를 이용하는 것이다.\n",
        "* 트릭은 training set을 3개의 subsets으로 분리하는 것이다. \n",
        "    - 첫번째는 첫 번째 층을 학습시키는데 사용되고\n",
        "    - 두번째는 두 번째 층을 학습시키기 위해 사용되는 training set을 만들 때 사용된다.\n",
        "        - 두번째 층은 첫번째 층의 예측기에 의해 만들어진 예측값을 사용한다.\n",
        "    - 세번째는 세 번째 층을 학습시키기 위해 사용되는 training set을 만들 때 사용된다.\n",
        "        - 세 번째 층은 두 번째 층의 예측기에 의해 만들어진 예측값을 사용한다.\n",
        "* 앞선 과정이 끝나면 sequential하게 각 층을 지나면서 새로운 인스턴스에 대한 예측값을 만들 수 있다.\n"
      ]
    },
    {
      "metadata": {
        "id": "90Sa1QPqB_CX",
        "colab_type": "text"
      },
      "cell_type": "markdown",
      "source": [
        "![image.png](https://smartstuartkim.files.wordpress.com/2019/02/image-6.png)"
      ]
    },
    {
      "metadata": {
        "id": "tJgxOZkIB_Cb",
        "colab_type": "text"
      },
      "cell_type": "markdown",
      "source": [
        "* Scikit-Learn에는 stacking을 직접적으로 지원하는 것이 없다.\n",
        "* 직접 구현은 할 수 있다.\n",
        "* 다른 사람이 구현해 놓은 것이 있다.[DESlib](https://github.com/Menelau/DESlib)"
      ]
    }
  ]
}