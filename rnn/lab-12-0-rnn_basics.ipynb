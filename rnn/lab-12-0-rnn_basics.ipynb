{
 "cells": [
  {
   "cell_type": "code",
   "execution_count": 1,
   "metadata": {},
   "outputs": [],
   "source": [
    "# http://www.wildml.com/2016/08/rnns-in-tensorflow-a-practical-guide-and-undocumented-features/\n",
    "# http://learningtensorflow.com/index.html\n",
    "# http://suriyadeepan.github.io/2016-12-31-practical-seq2seq/\n",
    "\n",
    "import tensorflow as tf\n",
    "import numpy as np\n",
    "from tensorflow.contrib import rnn\n",
    "import pprint\n",
    "pp = pprint.PrettyPrinter(indent=4)\n",
    "sess = tf.InteractiveSession()"
   ]
  },
  {
   "cell_type": "code",
   "execution_count": 2,
   "metadata": {},
   "outputs": [],
   "source": [
    "# One hot encoding for each char in 'hello'\n",
    "h = [1, 0, 0, 0]\n",
    "e = [0, 1, 0, 0]\n",
    "l = [0, 0, 1, 0]\n",
    "o = [0, 0, 0, 1]"
   ]
  },
  {
   "cell_type": "markdown",
   "metadata": {},
   "source": [
    "![image](https://cloud.githubusercontent.com/assets/901975/23348727/cc981856-fce7-11e6-83ea-4b187473466b.png)\n"
   ]
  },
  {
   "cell_type": "code",
   "execution_count": 5,
   "metadata": {},
   "outputs": [
    {
     "name": "stdout",
     "output_type": "stream",
     "text": [
      "2 2\n",
      "array([[[1., 0., 0., 0.]]], dtype=float32)\n",
      "array([[[-0.41376624, -0.51413125]]], dtype=float32)\n"
     ]
    }
   ],
   "source": [
    "with tf.variable_scope('one_cell') as scope:\n",
    "    # One cell RNN input_dim (4) -> output_dim (2)\n",
    "    # 여기서 output이 hidden cell이다.\n",
    "    hidden_size = 2 \n",
    "    # 가장 기본 RNN 구조\n",
    "    # 이 안에서 LSTM으로 바꾸고 싶으면 cell만 LSTM으로 바꾸면 된다.\n",
    "    cell = tf.keras.layers.SimpleRNNCell(units=hidden_size)\n",
    "    print(cell.output_size, cell.state_size)\n",
    "\n",
    "    x_data = np.array([[h]], dtype=np.float32) # x_data = [[[1,0,0,0]]]\n",
    "    pp.pprint(x_data)\n",
    "    # state는 모델 상태\n",
    "    # outputs\n",
    "    outputs, _states = tf.nn.dynamic_rnn(cell, x_data, dtype=tf.float32)\n",
    "\n",
    "    sess.run(tf.global_variables_initializer())\n",
    "    pp.pprint(outputs.eval())"
   ]
  },
  {
   "cell_type": "markdown",
   "metadata": {},
   "source": [
    "![image](https://cloud.githubusercontent.com/assets/901975/23383634/649efd0a-fd82-11e6-925d-8041242743b0.png)"
   ]
  },
  {
   "cell_type": "code",
   "execution_count": 6,
   "metadata": {},
   "outputs": [
    {
     "name": "stdout",
     "output_type": "stream",
     "text": [
      "(1, 5, 4)\n",
      "array([[[1., 0., 0., 0.],\n",
      "        [0., 1., 0., 0.],\n",
      "        [0., 0., 1., 0.],\n",
      "        [0., 0., 1., 0.],\n",
      "        [0., 0., 0., 1.]]], dtype=float32)\n",
      "array([[[ 0.57803905, -0.6183005 ],\n",
      "        [ 0.5357774 ,  0.04099169],\n",
      "        [ 0.07504235,  0.7707948 ],\n",
      "        [-0.42017367,  0.9364969 ],\n",
      "        [-0.4576048 ,  0.29156446]]], dtype=float32)\n"
     ]
    }
   ],
   "source": [
    "with tf.variable_scope('two_sequances') as scope:\n",
    "    # One cell RNN input_dim (4) -> output_dim (2). sequence: 5\n",
    "    hidden_size = 2\n",
    "    cell = tf.keras.layers.SimpleRNNCell(units=hidden_size)\n",
    "    x_data = np.array([[h, e, l, l, o]], dtype=np.float32)\n",
    "    print(x_data.shape)\n",
    "    pp.pprint(x_data)\n",
    "    outputs, _states = tf.nn.dynamic_rnn(cell, x_data, dtype=tf.float32)\n",
    "    sess.run(tf.global_variables_initializer())\n",
    "    pp.pprint(outputs.eval())"
   ]
  },
  {
   "cell_type": "markdown",
   "metadata": {},
   "source": [
    "![image](https://cloud.githubusercontent.com/assets/901975/23383681/9943a9fc-fd82-11e6-8121-bd187994e249.png)"
   ]
  },
  {
   "cell_type": "code",
   "execution_count": 7,
   "metadata": {
    "scrolled": false
   },
   "outputs": [
    {
     "name": "stdout",
     "output_type": "stream",
     "text": [
      "array([[[1., 0., 0., 0.],\n",
      "        [0., 1., 0., 0.],\n",
      "        [0., 0., 1., 0.],\n",
      "        [0., 0., 1., 0.],\n",
      "        [0., 0., 0., 1.]],\n",
      "\n",
      "       [[0., 1., 0., 0.],\n",
      "        [0., 0., 0., 1.],\n",
      "        [0., 0., 1., 0.],\n",
      "        [0., 0., 1., 0.],\n",
      "        [0., 0., 1., 0.]],\n",
      "\n",
      "       [[0., 0., 1., 0.],\n",
      "        [0., 0., 1., 0.],\n",
      "        [0., 1., 0., 0.],\n",
      "        [0., 1., 0., 0.],\n",
      "        [0., 0., 1., 0.]]], dtype=float32)\n",
      "array([[[ 0.09321102,  0.03219642],\n",
      "        [ 0.0615468 , -0.00332276],\n",
      "        [ 0.08537696,  0.11503907],\n",
      "        [ 0.09739595,  0.19838296],\n",
      "        [ 0.03078922,  0.12711605]],\n",
      "\n",
      "       [[ 0.0005288 , -0.03673532],\n",
      "        [-0.05999489, -0.14788014],\n",
      "        [ 0.01749653,  0.04193721],\n",
      "        [ 0.05634893,  0.15041941],\n",
      "        [ 0.07998287,  0.22307625]],\n",
      "\n",
      "       [[ 0.04531673,  0.11977081],\n",
      "        [ 0.07343666,  0.20312035],\n",
      "        [ 0.04965942,  0.2051381 ],\n",
      "        [ 0.03521229,  0.1454849 ],\n",
      "        [ 0.06833738,  0.19704822]]], dtype=float32)\n"
     ]
    }
   ],
   "source": [
    "with tf.variable_scope('3_batches') as scope:\n",
    "    # One cell RNN input_dim (4) -> output_dim (2). sequence: 5, batch 3\n",
    "    # 3 batches 'hello', 'eolll', 'lleel'\n",
    "    # 그래서 shape이 (3,5,2)이다\n",
    "    x_data = np.array([[h, e, l, l, o],\n",
    "                       [e, o, l, l, l],\n",
    "                       [l, l, e, e, l]], dtype=np.float32)\n",
    "    pp.pprint(x_data)\n",
    "    \n",
    "    hidden_size = 2\n",
    "    cell = tf.nn.rnn_cell.LSTMCell(num_units=hidden_size, state_is_tuple=True)\n",
    "    outputs, _states = tf.nn.dynamic_rnn(\n",
    "        cell, x_data, dtype=tf.float32)\n",
    "    sess.run(tf.global_variables_initializer())\n",
    "    pp.pprint(outputs.eval())"
   ]
  },
  {
   "cell_type": "code",
   "execution_count": 23,
   "metadata": {
    "scrolled": false
   },
   "outputs": [
    {
     "name": "stdout",
     "output_type": "stream",
     "text": [
      "array([[[1., 0., 0., 0.],\n",
      "        [0., 1., 0., 0.],\n",
      "        [0., 0., 1., 0.],\n",
      "        [0., 0., 1., 0.],\n",
      "        [0., 0., 0., 1.]],\n",
      "\n",
      "       [[0., 1., 0., 0.],\n",
      "        [0., 0., 0., 1.],\n",
      "        [0., 0., 1., 0.],\n",
      "        [0., 0., 1., 0.],\n",
      "        [0., 0., 1., 0.]],\n",
      "\n",
      "       [[0., 0., 1., 0.],\n",
      "        [0., 0., 1., 0.],\n",
      "        [0., 1., 0., 0.],\n",
      "        [0., 1., 0., 0.],\n",
      "        [0., 0., 1., 0.]]], dtype=float32)\n",
      "array([[[-0.19303772,  0.02679601],\n",
      "        [-0.17133988, -0.06782463],\n",
      "        [-0.17099826,  0.06548732],\n",
      "        [-0.2181655 ,  0.14868738],\n",
      "        [-0.2833136 , -0.02352209]],\n",
      "\n",
      "       [[-0.02502428, -0.08224939],\n",
      "        [-0.06298991, -0.19274323],\n",
      "        [-0.0998312 ,  0.00410579],\n",
      "        [ 0.        ,  0.        ],\n",
      "        [ 0.        ,  0.        ]],\n",
      "\n",
      "       [[-0.07655006,  0.11170713],\n",
      "        [-0.14978342,  0.17590529],\n",
      "        [-0.20550278,  0.04497789],\n",
      "        [-0.1836722 , -0.05184217],\n",
      "        [ 0.        ,  0.        ]]], dtype=float32)\n"
     ]
    }
   ],
   "source": [
    "with tf.variable_scope('3_batches_dynamic_length3') as scope:\n",
    "    # One cell RNN input_dim (4) -> output_dim (5). sequence: 5, batch 3\n",
    "    # 3 batches 'hello', 'eolll', 'lleel'\n",
    "    x_data = np.array([[h, e, l, l, o],\n",
    "                       [e, o, l, l, l],\n",
    "                       [l, l, e, e, l]], dtype=np.float32)\n",
    "    pp.pprint(x_data)\n",
    "    \n",
    "    hidden_size = 2\n",
    "    cell = tf.nn.rnn_cell.LSTMCell(num_units=hidden_size, state_is_tuple=True)\n",
    "    # sequence_length는 각 배치마다 시퀀스의 크기를 리스트에 저장할 수 있다.\n",
    "    # 지금 5,3,4이니 hello, eol, llee만 값이 출력되고 나머지부분은 0으로 처리된다.\n",
    "    # 이것이 있는 이유는 입력값이 다를 것을 대비한 것이다.\n",
    "    # 예를들어 문장을 형태소별로 잘랐을 때 각 토큰의 길이가 다를 것이다.\n",
    "    outputs, _states = tf.nn.dynamic_rnn(\n",
    "        cell, x_data, sequence_length=[5,3,4], dtype=tf.float32)\n",
    "    sess.run(tf.global_variables_initializer())\n",
    "    pp.pprint(outputs.eval())"
   ]
  },
  {
   "cell_type": "code",
   "execution_count": 25,
   "metadata": {},
   "outputs": [
    {
     "name": "stdout",
     "output_type": "stream",
     "text": [
      "array([[[1., 0., 0., 0.],\n",
      "        [0., 1., 0., 0.],\n",
      "        [0., 0., 1., 0.],\n",
      "        [0., 0., 1., 0.],\n",
      "        [0., 0., 0., 1.]],\n",
      "\n",
      "       [[0., 1., 0., 0.],\n",
      "        [0., 0., 0., 1.],\n",
      "        [0., 0., 1., 0.],\n",
      "        [0., 0., 1., 0.],\n",
      "        [0., 0., 1., 0.]],\n",
      "\n",
      "       [[0., 0., 1., 0.],\n",
      "        [0., 0., 1., 0.],\n",
      "        [0., 1., 0., 0.],\n",
      "        [0., 1., 0., 0.],\n",
      "        [0., 0., 1., 0.]]], dtype=float32)\n",
      "array([[[ 0.10078802,  0.13400415],\n",
      "        [-0.03830677,  0.07768194],\n",
      "        [-0.12962961,  0.11632847],\n",
      "        [-0.18225542,  0.14156449],\n",
      "        [ 0.03863295,  0.22164395]],\n",
      "\n",
      "       [[-0.10713828, -0.03386441],\n",
      "        [ 0.048637  ,  0.07024362],\n",
      "        [-0.04421161,  0.09679724],\n",
      "        [-0.12207574,  0.12966135],\n",
      "        [-0.17579196,  0.15168872]],\n",
      "\n",
      "       [[-0.09680256,  0.05833871],\n",
      "        [-0.16274075,  0.09911373],\n",
      "        [-0.17316027,  0.04666985],\n",
      "        [-0.21002096, -0.00145557],\n",
      "        [-0.30321562,  0.05097376]]], dtype=float32)\n"
     ]
    }
   ],
   "source": [
    "with tf.variable_scope('initial_state') as scope:\n",
    "    batch_size = 3\n",
    "    x_data = np.array([[h, e, l, l, o],\n",
    "                      [e, o, l, l, l],\n",
    "                      [l, l, e, e, l]], dtype=np.float32)\n",
    "    pp.pprint(x_data)\n",
    "    \n",
    "    # One cell RNN input_dim (4) -> output_dim (5). sequence: 5, batch: 3\n",
    "    hidden_size=2\n",
    "    cell = tf.nn.rnn_cell.LSTMCell(num_units=hidden_size, state_is_tuple=True)\n",
    "    # RNN 초기값을 0으로 줌\n",
    "    initial_state = cell.zero_state(batch_size, tf.float32)\n",
    "    outputs, _states = tf.nn.dynamic_rnn(cell, x_data,\n",
    "                                         initial_state=initial_state, dtype=tf.float32)\n",
    "    sess.run(tf.global_variables_initializer())\n",
    "    pp.pprint(outputs.eval())"
   ]
  },
  {
   "cell_type": "code",
   "execution_count": 3,
   "metadata": {},
   "outputs": [
    {
     "name": "stdout",
     "output_type": "stream",
     "text": [
      "array([[[ 0.,  1.,  2.],\n",
      "        [ 3.,  4.,  5.],\n",
      "        [ 6.,  7.,  8.],\n",
      "        [ 9., 10., 11.],\n",
      "        [12., 13., 14.]],\n",
      "\n",
      "       [[15., 16., 17.],\n",
      "        [18., 19., 20.],\n",
      "        [21., 22., 23.],\n",
      "        [24., 25., 26.],\n",
      "        [27., 28., 29.]],\n",
      "\n",
      "       [[30., 31., 32.],\n",
      "        [33., 34., 35.],\n",
      "        [36., 37., 38.],\n",
      "        [39., 40., 41.],\n",
      "        [42., 43., 44.]]], dtype=float32)\n"
     ]
    }
   ],
   "source": [
    "# Create input data\n",
    "batch_size=3\n",
    "sequence_length=5\n",
    "input_dim=3\n",
    "\n",
    "x_data = np.arange(45, dtype=np.float32).reshape(batch_size, sequence_length, input_dim)\n",
    "pp.pprint(x_data)  # batch, sequence_length, input_dim"
   ]
  },
  {
   "cell_type": "code",
   "execution_count": 27,
   "metadata": {},
   "outputs": [
    {
     "name": "stdout",
     "output_type": "stream",
     "text": [
      "array([[[-9.57843438e-02, -7.54647478e-02, -4.60432246e-02,\n",
      "         -1.16779432e-01,  1.51008800e-01],\n",
      "        [-4.33588386e-01, -9.85343605e-02,  1.06190324e-01,\n",
      "         -1.36943445e-01,  8.91944394e-02],\n",
      "        [-6.37848675e-01, -2.08311081e-02,  3.11666608e-01,\n",
      "         -1.06611289e-01,  1.82022341e-02],\n",
      "        [-7.45411515e-01,  9.12511349e-02,  4.65661258e-01,\n",
      "         -5.43830395e-02,  3.11620929e-03],\n",
      "        [-7.99489498e-01,  1.73044086e-01,  5.59863985e-01,\n",
      "         -1.26141896e-02,  5.18138520e-04]],\n",
      "\n",
      "       [[-6.65292263e-01,  2.19574064e-01,  2.99058199e-01,\n",
      "          1.93794966e-02,  8.06401586e-05],\n",
      "        [-7.92220831e-01,  2.70482570e-01,  5.50214410e-01,\n",
      "          3.32712904e-02,  1.40703987e-05],\n",
      "        [-8.13453972e-01,  2.98774838e-01,  6.48099422e-01,\n",
      "          3.96890976e-02,  2.48538458e-06],\n",
      "        [-8.10372114e-01,  3.18632096e-01,  6.88364744e-01,\n",
      "          4.18972857e-02,  4.36029069e-07],\n",
      "        [-8.02301109e-01,  3.31396788e-01,  7.12126970e-01,\n",
      "          4.18328568e-02,  7.61083214e-08]],\n",
      "\n",
      "       [[-7.43129909e-01,  3.74591708e-01,  4.20409143e-01,\n",
      "          1.04807108e-03,  1.34308422e-08],\n",
      "        [-7.84772456e-01,  3.34833622e-01,  6.89493299e-01,\n",
      "          1.79356453e-03,  2.15702722e-09],\n",
      "        [-7.81458795e-01,  3.43376756e-01,  7.53554225e-01,\n",
      "          2.08427780e-03,  3.94255156e-10],\n",
      "        [-7.76957512e-01,  3.42827290e-01,  7.78425753e-01,\n",
      "          2.16154451e-03,  6.90859661e-11],\n",
      "        [-7.73385882e-01,  3.40076953e-01,  7.94765413e-01,\n",
      "          2.13297876e-03,  1.19925033e-11]]], dtype=float32)\n"
     ]
    }
   ],
   "source": [
    "with tf.variable_scope('generated_data') as scope:\n",
    "    # One cell RNN input_dim (3) -> output_dim (5). sequence: 5, batch: 3\n",
    "    cell = tf.nn.rnn_cell.LSTMCell(num_units=5, state_is_tuple=True)\n",
    "    initial_state = cell.zero_state(batch_size, tf.float32)\n",
    "    outputs, _states = tf.nn.dynamic_rnn(cell, x_data,\n",
    "                                         initial_state=initial_state, dtype=tf.float32)\n",
    "    sess.run(tf.global_variables_initializer())\n",
    "    pp.pprint(outputs.eval())"
   ]
  },
  {
   "cell_type": "code",
   "execution_count": 37,
   "metadata": {},
   "outputs": [
    {
     "name": "stdout",
     "output_type": "stream",
     "text": [
      "dynamic rnn:  Tensor(\"MultiRNNCell4/rnn/transpose_1:0\", shape=(3, 5, 256), dtype=float32)\n",
      "array([[[ 1.50780287e-03,  5.44891518e-04, -4.35640663e-03, ...,\n",
      "         -1.34728674e-04,  9.61986277e-03, -9.43821156e-04],\n",
      "        [ 6.15415676e-03,  9.77632869e-03, -1.21697905e-02, ...,\n",
      "          3.60852387e-03,  3.67949530e-02, -4.81868861e-03],\n",
      "        [ 9.74488445e-03,  3.16993669e-02, -2.49429774e-02, ...,\n",
      "          1.43170096e-02,  7.52642155e-02, -1.54824657e-02],\n",
      "        [ 1.08603928e-02,  6.44593164e-02, -4.37167808e-02, ...,\n",
      "          2.88909543e-02,  1.15434825e-01, -3.12048420e-02],\n",
      "        [ 1.17533170e-02,  1.01916976e-01, -6.84865266e-02, ...,\n",
      "          4.14157957e-02,  1.51126206e-01, -4.75034192e-02]],\n",
      "\n",
      "       [[-4.70651034e-03,  2.16581672e-02, -2.90456619e-02, ...,\n",
      "          2.32079756e-02,  3.86994407e-02, -1.40672009e-02],\n",
      "        [-9.53856483e-03,  5.98175973e-02, -6.55082390e-02, ...,\n",
      "          4.07730825e-02,  8.21478143e-02, -3.57319042e-02],\n",
      "        [-1.06952731e-02,  1.00706205e-01, -1.04835927e-01, ...,\n",
      "          4.63699512e-02,  1.20524243e-01, -5.45642711e-02],\n",
      "        [-8.42631701e-03,  1.36871397e-01, -1.42845109e-01, ...,\n",
      "          4.47433516e-02,  1.50899470e-01, -6.88074753e-02],\n",
      "        [-4.78994660e-03,  1.66363463e-01, -1.77206039e-01, ...,\n",
      "          3.97340581e-02,  1.73741832e-01, -7.93697909e-02]],\n",
      "\n",
      "       [[-5.96296042e-03,  2.40745861e-02, -4.75664027e-02, ...,\n",
      "          2.87588835e-02,  3.67415175e-02, -1.84126552e-02],\n",
      "        [-1.39491102e-02,  6.36892244e-02, -9.97873023e-02, ...,\n",
      "          3.99157740e-02,  7.41829202e-02, -3.94148715e-02],\n",
      "        [-1.80324372e-02,  1.05944820e-01, -1.46952450e-01, ...,\n",
      "          3.83048877e-02,  1.04976386e-01, -5.78862838e-02],\n",
      "        [-1.95291024e-02,  1.44629240e-01, -1.85735822e-01, ...,\n",
      "          3.16557027e-02,  1.27814770e-01, -7.31195509e-02],\n",
      "        [-2.04492267e-02,  1.77966952e-01, -2.16721535e-01, ...,\n",
      "          2.36491840e-02,  1.44219115e-01, -8.54633078e-02]]],\n",
      "      dtype=float32)\n"
     ]
    }
   ],
   "source": [
    "with tf.variable_scope('MultiRNNCell4') as scope:\n",
    "    # Make rnn\n",
    "    rnn_layers = [tf.nn.rnn_cell.LSTMCell(size) for size in [128,256]]\n",
    "    cell = tf.nn.rnn_cell.MultiRNNCell(rnn_layers)\n",
    "\n",
    "    # rnn in/out\n",
    "    outputs, _states = tf.nn.dynamic_rnn(cell, x_data, dtype=tf.float32)\n",
    "    print(\"dynamic rnn: \", outputs)\n",
    "    sess.run(tf.global_variables_initializer())\n",
    "    pp.pprint(outputs.eval())  # batch size, unrolling (time), hidden_size"
   ]
  },
  {
   "cell_type": "code",
   "execution_count": 5,
   "metadata": {},
   "outputs": [
    {
     "name": "stdout",
     "output_type": "stream",
     "text": [
      "dynamic rnn:  Tensor(\"dynamic_rnn_1/rnn/transpose_1:0\", shape=(3, 5, 5), dtype=float32)\n",
      "array([[[-1.3645709e-02,  8.2412802e-02, -4.4301571e-03, -5.0062563e-02,\n",
      "         -3.6789931e-02],\n",
      "        [ 0.0000000e+00,  0.0000000e+00,  0.0000000e+00,  0.0000000e+00,\n",
      "          0.0000000e+00],\n",
      "        [ 0.0000000e+00,  0.0000000e+00,  0.0000000e+00,  0.0000000e+00,\n",
      "          0.0000000e+00],\n",
      "        [ 0.0000000e+00,  0.0000000e+00,  0.0000000e+00,  0.0000000e+00,\n",
      "          0.0000000e+00],\n",
      "        [ 0.0000000e+00,  0.0000000e+00,  0.0000000e+00,  0.0000000e+00,\n",
      "          0.0000000e+00]],\n",
      "\n",
      "       [[-6.8740512e-04,  6.2050349e-01, -7.4499876e-06, -1.0655648e-04,\n",
      "         -1.6122357e-03],\n",
      "        [-3.7477358e-04,  9.1176504e-01, -4.6680098e-06, -1.2979897e-04,\n",
      "         -6.1426457e-04],\n",
      "        [-1.7568872e-04,  9.8368806e-01, -2.1731034e-06, -1.2793619e-04,\n",
      "         -1.9982994e-04],\n",
      "        [ 0.0000000e+00,  0.0000000e+00,  0.0000000e+00,  0.0000000e+00,\n",
      "          0.0000000e+00],\n",
      "        [ 0.0000000e+00,  0.0000000e+00,  0.0000000e+00,  0.0000000e+00,\n",
      "          0.0000000e+00]],\n",
      "\n",
      "       [[-1.7202901e-06,  7.2454226e-01, -3.8507308e-10, -1.5365943e-08,\n",
      "         -7.0044830e-06],\n",
      "        [-9.0374516e-07,  9.5328587e-01, -2.1760141e-10, -1.9736344e-08,\n",
      "         -2.5190589e-06],\n",
      "        [ 0.0000000e+00,  0.0000000e+00,  0.0000000e+00,  0.0000000e+00,\n",
      "          0.0000000e+00],\n",
      "        [ 0.0000000e+00,  0.0000000e+00,  0.0000000e+00,  0.0000000e+00,\n",
      "          0.0000000e+00],\n",
      "        [ 0.0000000e+00,  0.0000000e+00,  0.0000000e+00,  0.0000000e+00,\n",
      "          0.0000000e+00]]], dtype=float32)\n"
     ]
    }
   ],
   "source": [
    "with tf.variable_scope('dynamic_rnn') as scope:\n",
    "    cell = tf.nn.rnn_cell.LSTMCell(num_units=5, state_is_tuple=True)\n",
    "    # dynamic_rnn()은 deprecated됨.\n",
    "    # RNN cell을 이용해 RNN 만든는 함수\n",
    "    # tf.keras.layers.RNN 사용할 것\n",
    "    outputs, _states = tf.nn.dynamic_rnn(cell, x_data, dtype=tf.float32,\n",
    "                                         sequence_length=[1, 3, 2])\n",
    "   \n",
    "    # lentgh 1 for batch 1, lentgh 2 for batch 2\n",
    "    \n",
    "    print(\"dynamic rnn: \", outputs)\n",
    "    sess.run(tf.global_variables_initializer())\n",
    "    pp.pprint(outputs.eval())  # batch size, unrolling (time), hidden_size"
   ]
  },
  {
   "cell_type": "code",
   "execution_count": 6,
   "metadata": {},
   "outputs": [
    {
     "name": "stdout",
     "output_type": "stream",
     "text": [
      "(   array([[[ 6.25624731e-02, -9.57042277e-02,  5.77053279e-02,\n",
      "         -3.16355713e-02, -8.33941251e-02],\n",
      "        [ 7.00005516e-02, -1.19264096e-01,  1.21350558e-02,\n",
      "         -1.39794953e-03, -1.33683130e-01],\n",
      "        [ 0.00000000e+00,  0.00000000e+00,  0.00000000e+00,\n",
      "          0.00000000e+00,  0.00000000e+00],\n",
      "        [ 0.00000000e+00,  0.00000000e+00,  0.00000000e+00,\n",
      "          0.00000000e+00,  0.00000000e+00],\n",
      "        [ 0.00000000e+00,  0.00000000e+00,  0.00000000e+00,\n",
      "          0.00000000e+00,  0.00000000e+00]],\n",
      "\n",
      "       [[ 1.29859662e-03, -1.88081991e-02,  3.50208836e-07,\n",
      "          4.01564158e-14, -1.39227789e-03],\n",
      "        [ 1.07748632e-03, -1.14402566e-02,  3.83073981e-08,\n",
      "          1.48296178e-15, -5.46327617e-04],\n",
      "        [ 6.68946130e-04, -6.94234250e-03,  3.25294214e-09,\n",
      "          4.98262003e-17, -1.70079409e-04],\n",
      "        [ 0.00000000e+00,  0.00000000e+00,  0.00000000e+00,\n",
      "          0.00000000e+00,  0.00000000e+00],\n",
      "        [ 0.00000000e+00,  0.00000000e+00,  0.00000000e+00,\n",
      "          0.00000000e+00,  0.00000000e+00]],\n",
      "\n",
      "       [[ 1.02095501e-05, -1.50793057e-03,  8.79394702e-13,\n",
      "          1.53936530e-26, -3.50368396e-06],\n",
      "        [ 0.00000000e+00,  0.00000000e+00,  0.00000000e+00,\n",
      "          0.00000000e+00,  0.00000000e+00],\n",
      "        [ 0.00000000e+00,  0.00000000e+00,  0.00000000e+00,\n",
      "          0.00000000e+00,  0.00000000e+00],\n",
      "        [ 0.00000000e+00,  0.00000000e+00,  0.00000000e+00,\n",
      "          0.00000000e+00,  0.00000000e+00],\n",
      "        [ 0.00000000e+00,  0.00000000e+00,  0.00000000e+00,\n",
      "          0.00000000e+00,  0.00000000e+00]]], dtype=float32),\n",
      "    array([[[-1.9294736e-01, -2.1447599e-01,  2.3952009e-01,  5.6995869e-02,\n",
      "          3.3351323e-01],\n",
      "        [-1.5122253e-01, -3.9246973e-01,  9.7531654e-02, -4.2991661e-02,\n",
      "          3.1279469e-01],\n",
      "        [ 0.0000000e+00,  0.0000000e+00,  0.0000000e+00,  0.0000000e+00,\n",
      "          0.0000000e+00],\n",
      "        [ 0.0000000e+00,  0.0000000e+00,  0.0000000e+00,  0.0000000e+00,\n",
      "          0.0000000e+00],\n",
      "        [ 0.0000000e+00,  0.0000000e+00,  0.0000000e+00,  0.0000000e+00,\n",
      "          0.0000000e+00]],\n",
      "\n",
      "       [[-2.0346221e-02, -9.8755950e-01,  2.3408101e-03, -8.3814722e-01,\n",
      "          5.9855109e-01],\n",
      "        [-1.1162857e-02, -9.5901299e-01,  8.4922649e-04, -8.4029305e-01,\n",
      "          4.1348022e-01],\n",
      "        [-7.8052524e-03, -7.6071262e-01,  3.4261253e-04, -7.0011884e-01,\n",
      "          2.0449406e-01],\n",
      "        [ 0.0000000e+00,  0.0000000e+00,  0.0000000e+00,  0.0000000e+00,\n",
      "          0.0000000e+00],\n",
      "        [ 0.0000000e+00,  0.0000000e+00,  0.0000000e+00,  0.0000000e+00,\n",
      "          0.0000000e+00]],\n",
      "\n",
      "       [[-1.3571292e-03, -7.6154679e-01,  1.5178885e-05, -7.4739069e-01,\n",
      "          1.5283822e-01],\n",
      "        [ 0.0000000e+00,  0.0000000e+00,  0.0000000e+00,  0.0000000e+00,\n",
      "          0.0000000e+00],\n",
      "        [ 0.0000000e+00,  0.0000000e+00,  0.0000000e+00,  0.0000000e+00,\n",
      "          0.0000000e+00],\n",
      "        [ 0.0000000e+00,  0.0000000e+00,  0.0000000e+00,  0.0000000e+00,\n",
      "          0.0000000e+00],\n",
      "        [ 0.0000000e+00,  0.0000000e+00,  0.0000000e+00,  0.0000000e+00,\n",
      "          0.0000000e+00]]], dtype=float32))\n",
      "(   LSTMStateTuple(c=array([[ 4.2800254e-01, -2.8106567e-01,  6.7938578e-01, -1.4220275e-01,\n",
      "        -8.5837954e-01],\n",
      "       [ 3.3750948e-01, -1.9902172e-02,  1.4397119e+00,  3.7767934e-06,\n",
      "        -2.8580003e+00],\n",
      "       [ 5.1247463e-02, -4.9077012e-03,  6.6787910e-01,  3.1589703e-11,\n",
      "        -9.9396425e-01]], dtype=float32), h=array([[ 7.00005516e-02, -1.19264096e-01,  1.21350558e-02,\n",
      "        -1.39794953e-03, -1.33683130e-01],\n",
      "       [ 6.68946130e-04, -6.94234250e-03,  3.25294214e-09,\n",
      "         4.98262003e-17, -1.70079409e-04],\n",
      "       [ 1.02095501e-05, -1.50793057e-03,  8.79394702e-13,\n",
      "         1.53936530e-26, -3.50368396e-06]], dtype=float32)),\n",
      "    LSTMStateTuple(c=array([[-0.5467571 , -0.37492284,  0.6651397 ,  0.11579587,  0.518228  ],\n",
      "       [-1.1098194 , -2.8185706 ,  0.81679684, -1.6096697 ,  0.6909181 ],\n",
      "       [-0.99935704, -0.9999945 ,  0.9802367 , -0.98220587,  0.15404525]],\n",
      "      dtype=float32), h=array([[-1.9294736e-01, -2.1447599e-01,  2.3952009e-01,  5.6995869e-02,\n",
      "         3.3351323e-01],\n",
      "       [-2.0346221e-02, -9.8755950e-01,  2.3408101e-03, -8.3814722e-01,\n",
      "         5.9855109e-01],\n",
      "       [-1.3571292e-03, -7.6154679e-01,  1.5178885e-05, -7.4739069e-01,\n",
      "         1.5283822e-01]], dtype=float32)))\n"
     ]
    }
   ],
   "source": [
    "with tf.variable_scope('bi-directional') as scope:\n",
    "    # bi-directional rnn\n",
    "    # 양방향 RNN\n",
    "    # forward\n",
    "    # tf.keras.layers.LSTMCell로 대체될 것.\n",
    "    cell_fw = tf.nn.rnn_cell.LSTMCell(num_units=5, state_is_tuple=True)\n",
    "    # backward\n",
    "    cell_bw = tf.nn.rnn_cell.LSTMCell(num_units=5, state_is_tuple=True)\n",
    "\n",
    "    outputs, states = tf.nn.bidirectional_dynamic_rnn(cell_fw, cell_bw, x_data,\n",
    "                                                      sequence_length=[2, 3, 1],\n",
    "                                                      dtype=tf.float32)\n",
    "\n",
    "    sess.run(tf.global_variables_initializer())\n",
    "    pp.pprint(sess.run(outputs))\n",
    "    pp.pprint(sess.run(states))"
   ]
  },
  {
   "cell_type": "code",
   "execution_count": 8,
   "metadata": {},
   "outputs": [
    {
     "name": "stdout",
     "output_type": "stream",
     "text": [
      "== 처음 데이터 ==\n",
      "array([[ 0.,  1.,  2.],\n",
      "       [ 3.,  4.,  5.],\n",
      "       [ 6.,  7.,  8.],\n",
      "       [ 9., 10., 11.],\n",
      "       [12., 13., 14.],\n",
      "       [15., 16., 17.],\n",
      "       [18., 19., 20.],\n",
      "       [21., 22., 23.],\n",
      "       [24., 25., 26.],\n",
      "       [27., 28., 29.],\n",
      "       [30., 31., 32.],\n",
      "       [33., 34., 35.],\n",
      "       [36., 37., 38.],\n",
      "       [39., 40., 41.],\n",
      "       [42., 43., 44.]], dtype=float32)\n",
      "\n",
      "== 배치를 합친 데이터(flatten) ==\n",
      "array([[ 0.,  1.,  2.],\n",
      "       [ 3.,  4.,  5.],\n",
      "       [ 6.,  7.,  8.],\n",
      "       [ 9., 10., 11.],\n",
      "       [12., 13., 14.],\n",
      "       [15., 16., 17.],\n",
      "       [18., 19., 20.],\n",
      "       [21., 22., 23.],\n",
      "       [24., 25., 26.],\n",
      "       [27., 28., 29.],\n",
      "       [30., 31., 32.],\n",
      "       [33., 34., 35.],\n",
      "       [36., 37., 38.],\n",
      "       [39., 40., 41.],\n",
      "       [42., 43., 44.]], dtype=float32)\n",
      "\n",
      "== softmax를 거친 데이터 ==\n",
      "array([[[  25.,   28.,   31.,   34.,   37.],\n",
      "        [  70.,   82.,   94.,  106.,  118.],\n",
      "        [ 115.,  136.,  157.,  178.,  199.],\n",
      "        [ 160.,  190.,  220.,  250.,  280.],\n",
      "        [ 205.,  244.,  283.,  322.,  361.]],\n",
      "\n",
      "       [[ 250.,  298.,  346.,  394.,  442.],\n",
      "        [ 295.,  352.,  409.,  466.,  523.],\n",
      "        [ 340.,  406.,  472.,  538.,  604.],\n",
      "        [ 385.,  460.,  535.,  610.,  685.],\n",
      "        [ 430.,  514.,  598.,  682.,  766.]],\n",
      "\n",
      "       [[ 475.,  568.,  661.,  754.,  847.],\n",
      "        [ 520.,  622.,  724.,  826.,  928.],\n",
      "        [ 565.,  676.,  787.,  898., 1009.],\n",
      "        [ 610.,  730.,  850.,  970., 1090.],\n",
      "        [ 655.,  784.,  913., 1042., 1171.]]], dtype=float32)\n"
     ]
    }
   ],
   "source": [
    "# flatten based softmax\n",
    "hidden_size=3\n",
    "sequence_length=5\n",
    "batch_size=3\n",
    "num_classes=5\n",
    "\n",
    "print('== 처음 데이터 ==')\n",
    "pp.pprint(x_data) # hidden_size=3, sequence_length=4, batch_size=2\n",
    "\n",
    "print('\\n== 배치를 합친 데이터(flatten) ==')\n",
    "x_data = x_data.reshape(-1, hidden_size)\n",
    "pp.pprint(x_data)\n",
    "\n",
    "print('\\n== softmax를 거친 데이터 ==')\n",
    "softmax_w = np.arange(15, dtype=np.float32).reshape(hidden_size, num_classes)\n",
    "outputs = np.matmul(x_data, softmax_w)\n",
    "outputs = outputs.reshape(-1, sequence_length, num_classes) # batch, seq, class\n",
    "pp.pprint(outputs)"
   ]
  },
  {
   "cell_type": "code",
   "execution_count": 16,
   "metadata": {},
   "outputs": [
    {
     "name": "stdout",
     "output_type": "stream",
     "text": [
      "Loss:  0.596759\n"
     ]
    }
   ],
   "source": [
    "# [batch_size, sequence_length]\n",
    "y_data = tf.constant([[1, 1, 1]])\n",
    "\n",
    "# [batch_size, sequence_length, emb_dim ]\n",
    "prediction = tf.constant([[[0.2, 0.7], [0.6, 0.2], [0.2, 0.9]]], dtype=tf.float32)\n",
    "\n",
    "# [batch_size * sequence_length]\n",
    "weights = tf.constant([[1, 1, 1]], dtype=tf.float32)\n",
    "\n",
    "# Weighted cross-entropy loss for a sequence of logits.\n",
    "sequence_loss = tf.contrib.seq2seq.sequence_loss(logits=prediction, targets=y_data, weights=weights)\n",
    "sess.run(tf.global_variables_initializer())\n",
    "print(\"Loss: \", sequence_loss.eval())"
   ]
  },
  {
   "cell_type": "code",
   "execution_count": 10,
   "metadata": {},
   "outputs": [
    {
     "name": "stdout",
     "output_type": "stream",
     "text": [
      "Loss1:  0.5130153 \n",
      "Loss2:  0.3711007 \n",
      "Loss3:  1.3132616 \n",
      "Loss4:  1.3132616\n"
     ]
    }
   ],
   "source": [
    "# [batch_size, sequence_length]\n",
    "y_data = tf.constant([[1, 1, 1]])\n",
    "\n",
    "# [batch_size, sequence_length, emb_dim ]\n",
    "prediction1 = tf.constant([[[0.3, 0.7], [0.3, 0.7], [0.3, 0.7]]], dtype=tf.float32)\n",
    "prediction2 = tf.constant([[[0.1, 0.9], [0.1, 0.9], [0.1, 0.9]]], dtype=tf.float32)\n",
    "\n",
    "prediction3 = tf.constant([[[1, 0], [1, 0], [1, 0]]], dtype=tf.float32)\n",
    "prediction4 = tf.constant([[[0, 1], [1, 0], [0, 1]]], dtype=tf.float32)\n",
    "\n",
    "# [batch_size * sequence_length]\n",
    "weights = tf.constant([[1, 1, 1]], dtype=tf.float32)\n",
    "\n",
    "sequence_loss1 = tf.contrib.seq2seq.sequence_loss(prediction1, y_data, weights)\n",
    "sequence_loss2 = tf.contrib.seq2seq.sequence_loss(prediction2, y_data, weights)\n",
    "sequence_loss3 = tf.contrib.seq2seq.sequence_loss(prediction3, y_data, weights)\n",
    "sequence_loss4 = tf.contrib.seq2seq.sequence_loss(prediction3, y_data, weights)\n",
    "\n",
    "sess.run(tf.global_variables_initializer())\n",
    "print(\"Loss1: \", sequence_loss1.eval(),\n",
    "      \"\\nLoss2: \", sequence_loss2.eval(),\n",
    "      \"\\nLoss3: \", sequence_loss3.eval(),\n",
    "      \"\\nLoss4: \", sequence_loss4.eval())"
   ]
  }
 ],
 "metadata": {
  "kernelspec": {
   "display_name": "Python 3",
   "language": "python",
   "name": "python3"
  },
  "language_info": {
   "codemirror_mode": {
    "name": "ipython",
    "version": 3
   },
   "file_extension": ".py",
   "mimetype": "text/x-python",
   "name": "python",
   "nbconvert_exporter": "python",
   "pygments_lexer": "ipython3",
   "version": "3.6.6"
  }
 },
 "nbformat": 4,
 "nbformat_minor": 1
}
